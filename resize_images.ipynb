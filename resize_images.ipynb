{
 "cells": [
  {
   "cell_type": "code",
   "execution_count": 1,
   "metadata": {},
   "outputs": [],
   "source": [
    "import os\n",
    "from pathlib import Path\n",
    "import cv2"
   ]
  },
  {
   "cell_type": "markdown",
   "metadata": {},
   "source": [
    "# Resize images to 315"
   ]
  },
  {
   "cell_type": "code",
   "execution_count": 2,
   "metadata": {},
   "outputs": [],
   "source": [
    "train_path = Path(\"/home/ubuntu/data/sandwich/\")/\"train\""
   ]
  },
  {
   "cell_type": "code",
   "execution_count": 3,
   "metadata": {},
   "outputs": [],
   "source": [
    "test_path = Path(\"/home/ubuntu/data/sandwich/\")/\"test\""
   ]
  },
  {
   "cell_type": "code",
   "execution_count": 4,
   "metadata": {},
   "outputs": [],
   "source": [
    "def read_image(path):\n",
    "    im = cv2.imread(str(path))\n",
    "    return cv2.cvtColor(im, cv2.COLOR_BGR2RGB)"
   ]
  },
  {
   "cell_type": "code",
   "execution_count": 5,
   "metadata": {},
   "outputs": [],
   "source": [
    "from collections import Counter"
   ]
  },
  {
   "cell_type": "code",
   "execution_count": 6,
   "metadata": {},
   "outputs": [],
   "source": [
    "files = list((train_path/\"club_sandwich\").iterdir())[:100] + \\\n",
    "list((train_path/\"grilled_cheese_sandwich\").iterdir())[:100] + \\\n",
    "list((train_path/\"hamburger\").iterdir())[:100] + \\\n",
    "list((train_path/\"hot_dog\").iterdir())[:100] + \\\n",
    "list((train_path/\"lobster_roll_sandwich\").iterdir())[:100] + \\\n",
    "list((train_path/\"pulled_pork_sandwich\").iterdir())[:100]"
   ]
  },
  {
   "cell_type": "code",
   "execution_count": 7,
   "metadata": {},
   "outputs": [],
   "source": [
    "dims = [read_image(str(p)).shape for p in files]"
   ]
  },
  {
   "cell_type": "code",
   "execution_count": 8,
   "metadata": {},
   "outputs": [],
   "source": [
    "# Counter(dims)"
   ]
  },
  {
   "cell_type": "code",
   "execution_count": 9,
   "metadata": {},
   "outputs": [],
   "source": [
    "counts = Counter([round(d[1]/d[0], 3) for d in dims])"
   ]
  },
  {
   "cell_type": "code",
   "execution_count": 10,
   "metadata": {},
   "outputs": [
    {
     "data": {
      "text/plain": [
       "Counter({1.0: 356,\n",
       "         1.333: 88,\n",
       "         0.598: 2,\n",
       "         1.772: 8,\n",
       "         1.337: 5,\n",
       "         0.75: 39,\n",
       "         1.51: 1,\n",
       "         1.002: 1,\n",
       "         1.34: 18,\n",
       "         1.087: 2,\n",
       "         0.6: 2,\n",
       "         0.998: 3,\n",
       "         1.161: 1,\n",
       "         1.778: 5,\n",
       "         0.746: 26,\n",
       "         1.438: 1,\n",
       "         1.673: 4,\n",
       "         1.006: 2,\n",
       "         1.493: 3,\n",
       "         1.501: 7,\n",
       "         1.299: 1,\n",
       "         1.784: 3,\n",
       "         1.506: 4,\n",
       "         1.538: 1,\n",
       "         1.497: 3,\n",
       "         0.801: 1,\n",
       "         1.636: 1,\n",
       "         1.158: 1,\n",
       "         0.666: 2,\n",
       "         0.748: 4,\n",
       "         1.668: 2,\n",
       "         1.434: 1,\n",
       "         0.752: 1,\n",
       "         1.12: 1})"
      ]
     },
     "execution_count": 10,
     "metadata": {},
     "output_type": "execute_result"
    }
   ],
   "source": [
    "counts"
   ]
  },
  {
   "cell_type": "code",
   "execution_count": 11,
   "metadata": {},
   "outputs": [],
   "source": [
    "def resize_images(path, sz=300):\n",
    "    im = read_image(path)\n",
    "    sz2 = int(1.0*sz)\n",
    "    return cv2.resize(im, (sz2, sz))"
   ]
  },
  {
   "cell_type": "code",
   "execution_count": 12,
   "metadata": {},
   "outputs": [
    {
     "data": {
      "text/plain": [
       "PosixPath('/home/ubuntu/data/sandwich/train')"
      ]
     },
     "execution_count": 12,
     "metadata": {},
     "output_type": "execute_result"
    }
   ],
   "source": [
    "train_path"
   ]
  },
  {
   "cell_type": "code",
   "execution_count": 13,
   "metadata": {},
   "outputs": [],
   "source": [
    "new_train_path = Path(\"/home/ubuntu/data/sandwich/\")/\"train-315\""
   ]
  },
  {
   "cell_type": "code",
   "execution_count": 14,
   "metadata": {},
   "outputs": [],
   "source": [
    "new_train_path.mkdir(exist_ok=True)"
   ]
  },
  {
   "cell_type": "code",
   "execution_count": 15,
   "metadata": {},
   "outputs": [],
   "source": [
    "new_test_path = Path(\"/home/ubuntu/data/sandwich/\")/\"test-315\""
   ]
  },
  {
   "cell_type": "code",
   "execution_count": 16,
   "metadata": {},
   "outputs": [],
   "source": [
    "new_test_path.mkdir(exist_ok=True)"
   ]
  },
  {
   "cell_type": "code",
   "execution_count": 17,
   "metadata": {},
   "outputs": [],
   "source": [
    "def resize_all_images(new_path, org_path, sz=300):\n",
    "    paths = [x for x in list(org_path.iterdir()) if x.is_dir()]\n",
    "    for p in paths:\n",
    "        label = p.parts[-1]\n",
    "        (new_path/label).mkdir(exist_ok=True)\n",
    "        files = list((org_path/label).iterdir())\n",
    "        for f in files:\n",
    "            f_name = f.parts[-1]\n",
    "            im = resize_images(f, sz=sz)\n",
    "            cv2.imwrite(str(new_path/label/f_name), cv2.cvtColor(im, cv2.COLOR_RGB2BGR))"
   ]
  },
  {
   "cell_type": "code",
   "execution_count": 18,
   "metadata": {},
   "outputs": [],
   "source": [
    "# resize_all_images(new_train_path, train_path, sz=315)"
   ]
  },
  {
   "cell_type": "code",
   "execution_count": 19,
   "metadata": {},
   "outputs": [],
   "source": [
    "# resize_all_images(new_test_path, test_path, sz=315)"
   ]
  },
  {
   "cell_type": "markdown",
   "metadata": {},
   "source": [
    "# Resize images to 315"
   ]
  },
  {
   "cell_type": "code",
   "execution_count": 5,
   "metadata": {},
   "outputs": [],
   "source": [
    "train_path = Path(\"/home/ubuntu/data/sandwich/\")/\"train\""
   ]
  },
  {
   "cell_type": "code",
   "execution_count": 6,
   "metadata": {},
   "outputs": [],
   "source": [
    "new_train_path = Path(\"/home/ubuntu/data/sandwich/\")/\"train-315\""
   ]
  },
  {
   "cell_type": "code",
   "execution_count": 7,
   "metadata": {},
   "outputs": [],
   "source": [
    "new_train_path.mkdir(exist_ok=True)"
   ]
  },
  {
   "cell_type": "code",
   "execution_count": 10,
   "metadata": {},
   "outputs": [],
   "source": [
    "resize_all_images(new_train_path, train_path, sz=315)"
   ]
  },
  {
   "cell_type": "code",
   "execution_count": 14,
   "metadata": {},
   "outputs": [],
   "source": [
    "test_path = Path(\"/home/ubuntu/data/sandwich/\")/\"test\""
   ]
  },
  {
   "cell_type": "code",
   "execution_count": 15,
   "metadata": {},
   "outputs": [],
   "source": [
    "new_test_path = Path(\"/home/ubuntu/data/sandwich/\")/\"test-315\""
   ]
  },
  {
   "cell_type": "code",
   "execution_count": 16,
   "metadata": {},
   "outputs": [],
   "source": [
    "new_test_path.mkdir(exist_ok=True)"
   ]
  },
  {
   "cell_type": "code",
   "execution_count": 17,
   "metadata": {},
   "outputs": [],
   "source": [
    "resize_all_images(new_test_path, test_path, sz=315)"
   ]
  },
  {
   "cell_type": "code",
   "execution_count": null,
   "metadata": {},
   "outputs": [],
   "source": []
  }
 ],
 "metadata": {
  "kernelspec": {
   "display_name": "Python 3",
   "language": "python",
   "name": "python3"
  },
  "language_info": {
   "codemirror_mode": {
    "name": "ipython",
    "version": 3
   },
   "file_extension": ".py",
   "mimetype": "text/x-python",
   "name": "python",
   "nbconvert_exporter": "python",
   "pygments_lexer": "ipython3",
   "version": "3.6.5"
  }
 },
 "nbformat": 4,
 "nbformat_minor": 2
}
