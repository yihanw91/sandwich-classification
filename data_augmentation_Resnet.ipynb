{
 "cells": [
  {
   "cell_type": "markdown",
   "metadata": {},
   "source": [
    "# Resnet with Data Augmentation"
   ]
  },
  {
   "cell_type": "markdown",
   "metadata": {},
   "source": [
    "This notebook contains my experiments with additional image preprocessing and data augmentation techniques. Specifically, I applied the Grey World and Histogram Equalization methods and fitted Resnet34 models on the resulting data. I have combined the code and output from previously 4 notebooks for easier viewing in one place."
   ]
  },
  {
   "cell_type": "markdown",
   "metadata": {},
   "source": [
    "Table of Contents\n",
    "\n",
    "I. Resnet34 on images on images preprocessed with Grey World\n",
    "\n",
    "II. Resnet34 on images preprocessed with Histogram Equalization\n",
    "\n",
    "III. Resnet34 on images preprocessed with Histogram Equalization + Grey World\n",
    "\n",
    "IV. Resnet34 with Grey World + Histogram Equalization as a random data augmentation"
   ]
  },
  {
   "cell_type": "code",
   "execution_count": 1,
   "metadata": {},
   "outputs": [],
   "source": [
    "%reload_ext autoreload\n",
    "%autoreload 2\n",
    "%matplotlib inline\n",
    "\n",
    "import pandas as pd\n",
    "import numpy as np\n",
    "import torch\n",
    "from pathlib import Path\n",
    "from torch.utils.data import Dataset, DataLoader\n",
    "import torch.optim as optim\n",
    "import torch.nn as nn\n",
    "import torch.nn.functional as F\n",
    "from torchvision import models\n",
    "import random\n",
    "\n",
    "from sklearn.model_selection import train_test_split"
   ]
  },
  {
   "cell_type": "code",
   "execution_count": 2,
   "metadata": {},
   "outputs": [],
   "source": [
    "import cv2\n",
    "import matplotlib.pyplot as plt "
   ]
  },
  {
   "cell_type": "code",
   "execution_count": 3,
   "metadata": {},
   "outputs": [],
   "source": [
    "PATH = Path(\"/home/ubuntu/data/sandwich/\")"
   ]
  },
  {
   "cell_type": "code",
   "execution_count": 4,
   "metadata": {},
   "outputs": [],
   "source": [
    "def read_image(path):\n",
    "    im = cv2.imread(str(path))\n",
    "    return cv2.cvtColor(im, cv2.COLOR_BGR2RGB)"
   ]
  },
  {
   "cell_type": "code",
   "execution_count": 5,
   "metadata": {},
   "outputs": [],
   "source": [
    "import math\n",
    "def crop(im, r, c, target_r, target_c): return im[r:r+target_r, c:c+target_c]\n",
    "\n",
    "\n",
    "# random crop to the original size\n",
    "def random_crop(x, r_pix=8):\n",
    "    \"\"\" Returns a random crop\"\"\"\n",
    "    r, c,*_ = x.shape\n",
    "    r, c,*_ = x.shape\n",
    "    c_pix = round(r_pix*c/r)\n",
    "    rand_r = random.uniform(0, 1)\n",
    "    rand_c = random.uniform(0, 1)\n",
    "    start_r = np.floor(2*rand_r*r_pix).astype(int)\n",
    "    start_c = np.floor(2*rand_c*c_pix).astype(int)\n",
    "    return crop(x, start_r, start_c, r-2*r_pix, c-2*c_pix)\n",
    "\n",
    "def center_crop(x, r_pix=8):\n",
    "    r, c,*_ = x.shape\n",
    "    c_pix = round(r_pix*c/r)\n",
    "    return crop(x, r_pix, c_pix, r-2*r_pix, c-2*c_pix)\n",
    "\n",
    "\n",
    "def rotate_cv(im, deg, mode=cv2.BORDER_REFLECT, interpolation=cv2.INTER_AREA):\n",
    "    \"\"\" Rotates an image by deg degrees\"\"\"\n",
    "    r,c,*_ = im.shape\n",
    "    M = cv2.getRotationMatrix2D((c/2,r/2),deg,1)\n",
    "    return cv2.warpAffine(im,M,(c,r), borderMode=mode, \n",
    "                          flags=cv2.WARP_FILL_OUTLIERS+interpolation)"
   ]
  },
  {
   "cell_type": "code",
   "execution_count": 6,
   "metadata": {},
   "outputs": [],
   "source": [
    "def get_files(path):\n",
    "    paths = [d for d in list(path.iterdir()) if d.is_dir()]\n",
    "    files = [f for d in paths for f in list(d.iterdir())]\n",
    "    return files"
   ]
  },
  {
   "cell_type": "code",
   "execution_count": 7,
   "metadata": {},
   "outputs": [],
   "source": [
    "def normalize(im):\n",
    "    \"\"\"Normalizes images with Imagenet stats.\"\"\"\n",
    "    imagenet_stats = np.array([[0.485, 0.456, 0.406], [0.229, 0.224, 0.225]])\n",
    "    return (im - imagenet_stats[0])/imagenet_stats[1]"
   ]
  },
  {
   "cell_type": "code",
   "execution_count": 8,
   "metadata": {},
   "outputs": [],
   "source": [
    "class SandwichDataset(Dataset):\n",
    "    def __init__(self, files, labels, transforms=False):\n",
    "        self.files = files\n",
    "        self.label2ind = {v:k for k,v in enumerate(labels)}\n",
    "        self.transforms = transforms\n",
    "        \n",
    "    def __len__(self):\n",
    "        return len(self.files)\n",
    "    \n",
    "    def __getitem__(self, idx):\n",
    "        path = self.files[idx]\n",
    "        name = path.parts[-1]\n",
    "        y_class = self.label2ind[path.parts[-2]]\n",
    "        x = cv2.imread(str(path)).astype(np.float32)\n",
    "        x = cv2.cvtColor(x, cv2.COLOR_BGR2RGB)/255\n",
    "        if self.transforms:\n",
    "            rdeg = (np.random.random()-.50)*20\n",
    "            x = rotate_cv(x, rdeg)\n",
    "            if np.random.random() > 0.5: x = np.fliplr(x).copy()\n",
    "            x = random_crop(x)\n",
    "        else:\n",
    "            x = center_crop(x)\n",
    "        x = normalize(x)\n",
    "        y = self.label2ind[path.parts[-2]]\n",
    "        return np.rollaxis(x, 2), y"
   ]
  },
  {
   "cell_type": "code",
   "execution_count": 9,
   "metadata": {},
   "outputs": [],
   "source": [
    "resnet = models.resnet34(pretrained=True)"
   ]
  },
  {
   "cell_type": "code",
   "execution_count": 10,
   "metadata": {},
   "outputs": [],
   "source": [
    "layers = list(resnet.children())"
   ]
  },
  {
   "cell_type": "code",
   "execution_count": 11,
   "metadata": {
    "scrolled": false
   },
   "outputs": [
    {
     "data": {
      "text/plain": [
       "[AdaptiveAvgPool2d(output_size=(1, 1)),\n",
       " Linear(in_features=512, out_features=1000, bias=True)]"
      ]
     },
     "execution_count": 11,
     "metadata": {},
     "output_type": "execute_result"
    }
   ],
   "source": [
    "layers[-2:]"
   ]
  },
  {
   "cell_type": "code",
   "execution_count": 12,
   "metadata": {},
   "outputs": [],
   "source": [
    "class Resnet(nn.Module):\n",
    "    def __init__(self):\n",
    "        super(Resnet, self).__init__()\n",
    "        resnet = models.resnet34(pretrained=True)\n",
    "        # freezing parameters\n",
    "        for param in resnet.parameters():\n",
    "            param.requires_grad = False\n",
    "        # convolutional layers of resnet34\n",
    "        layers = list(resnet.children())[:8]\n",
    "        self.top_model = nn.Sequential(*layers).cuda()\n",
    "        self.fc = nn.Linear(512, 6)\n",
    "    \n",
    "    def forward(self, x):\n",
    "        x = F.relu(self.top_model(x))\n",
    "        x = nn.AdaptiveAvgPool2d((1,1))(x)\n",
    "        x = x.view(x.shape[0], -1) # flattening \n",
    "        x = self.fc(x)\n",
    "        return x"
   ]
  },
  {
   "cell_type": "code",
   "execution_count": 13,
   "metadata": {},
   "outputs": [],
   "source": [
    "def val_metrics(model, valid_dl):\n",
    "    model.eval()\n",
    "    total = 0\n",
    "    sum_loss = 0\n",
    "    correct = 0 \n",
    "    for x, y in valid_dl:\n",
    "        batch = y.shape[0]\n",
    "        x = x.cuda().float()\n",
    "        y = y.cuda()\n",
    "        out = model(x)\n",
    "        _, pred = torch.max(out, 1)\n",
    "        correct += pred.eq(y).sum().item()\n",
    "        loss = F.cross_entropy(out, y)\n",
    "        sum_loss += batch*(loss.item())\n",
    "        total += batch\n",
    "    return sum_loss/total, correct/total"
   ]
  },
  {
   "cell_type": "code",
   "execution_count": 14,
   "metadata": {},
   "outputs": [],
   "source": [
    "def get_optimizer(model, lr=0.01, wd=0.0):\n",
    "    parameters = filter(lambda p: p.requires_grad, model.parameters())\n",
    "    optim = torch.optim.Adam(parameters, lr=lr, weight_decay=wd)\n",
    "    return optim\n",
    "\n",
    "def update_optimizer(optimizer, lr):\n",
    "    for i, param_group in enumerate(optimizer.param_groups):\n",
    "        param_group[\"lr\"] = lr"
   ]
  },
  {
   "cell_type": "code",
   "execution_count": 15,
   "metadata": {},
   "outputs": [],
   "source": [
    "def save_model(m, p): torch.save(m.state_dict(), p)\n",
    "    \n",
    "def load_model(m, p): m.load_state_dict(torch.load(p))"
   ]
  },
  {
   "cell_type": "code",
   "execution_count": 16,
   "metadata": {},
   "outputs": [],
   "source": [
    "model_path = Path(\"/home/ubuntu/models/sandwich/\")"
   ]
  },
  {
   "cell_type": "code",
   "execution_count": 17,
   "metadata": {},
   "outputs": [],
   "source": [
    "def set_trainable_attr(m, b=True):\n",
    "    for p in m.parameters(): p.requires_grad = b"
   ]
  },
  {
   "cell_type": "code",
   "execution_count": 18,
   "metadata": {},
   "outputs": [],
   "source": [
    "def unfreeze(model, l):\n",
    "    top_model = model.top_model\n",
    "    set_trainable_attr(top_model[l])"
   ]
  },
  {
   "cell_type": "code",
   "execution_count": 19,
   "metadata": {},
   "outputs": [],
   "source": [
    "class ResnetV2(nn.Module):\n",
    "    def __init__(self):\n",
    "        super(ResnetV2, self).__init__()\n",
    "        self.resnet = models.resnet34(pretrained=True)\n",
    "        self.freeze()\n",
    "        layers = list(self.resnet.children())[:8]\n",
    "        self.groups = nn.ModuleList([nn.Sequential(*h) for h in [layers[:6], layers[6:]]]) # Define groups of layers\n",
    "        self.groups.append(nn.Linear(512, 6))\n",
    "    \n",
    "    def forward(self, x):\n",
    "        for group in self.groups[:2]: # Resnet layers\n",
    "            x = group(x)\n",
    "        x = F.relu(x)\n",
    "        x = nn.AdaptiveAvgPool2d((1,1))(x)\n",
    "        x = x.view(x.shape[0], -1)\n",
    "        x = self.groups[2](x) # Linear layer\n",
    "        return x\n",
    "    \n",
    "    def freeze(self): # Freeze all Resnet\n",
    "        for param in self.resnet.parameters():\n",
    "            param.requires_grad = False\n",
    "            \n",
    "    def unfreeze(self, group_idx:int): # Unfreeze a group\n",
    "        group = self.groups[group_idx]\n",
    "        parameters = filter(lambda x: hasattr(x,'requires_grad'), group.parameters())\n",
    "        for p in parameters: \n",
    "            p.requires_grad = True"
   ]
  },
  {
   "cell_type": "code",
   "execution_count": 56,
   "metadata": {},
   "outputs": [],
   "source": [
    "def create_optimizer(model, lr0):\n",
    "    param_groups = [list(model.groups[i].parameters()) for i in range(3)] # Different parameters groups for optimizer\n",
    "    params = [{'params':p, 'lr': lr} for p,lr in zip(param_groups, [lr0/9, lr0/3, lr0])] # Different learning rates for groups\n",
    "    return optim.Adam(params)\n",
    "\n",
    "def update_optimizer(optimizer, lr):\n",
    "    for i, param_group in enumerate(optimizer.param_groups):\n",
    "        param_group[\"lr\"] = lr\n",
    "\n",
    "def update_optimizer_group(optimizer, group_lrs):\n",
    "    for i, param_group in enumerate(optimizer.param_groups):\n",
    "        param_group[\"lr\"] = group_lrs[i]"
   ]
  },
  {
   "cell_type": "code",
   "execution_count": 21,
   "metadata": {},
   "outputs": [],
   "source": [
    "def cosine_segment(start_lr, end_lr, iterations):\n",
    "    i = np.arange(iterations)\n",
    "    c_i = 1 + np.cos(i*np.pi/iterations)\n",
    "    return end_lr + (start_lr - end_lr)/2 *c_i\n",
    "\n",
    "def get_cosine_triangular_lr(max_lr, iterations):\n",
    "    min_start, min_end = max_lr/25, max_lr/(25*1e4)\n",
    "    iter1 = int(0.3*iterations)\n",
    "    iter2 = iterations - iter1\n",
    "    segs = [cosine_segment(min_start, max_lr, iter1), cosine_segment(max_lr, min_end, iter2)]\n",
    "    return np.concatenate(segs)"
   ]
  },
  {
   "cell_type": "code",
   "execution_count": null,
   "metadata": {},
   "outputs": [],
   "source": []
  },
  {
   "cell_type": "markdown",
   "metadata": {},
   "source": [
    "# I. Resnet34 on images preprocessed with Grey World"
   ]
  },
  {
   "cell_type": "markdown",
   "metadata": {},
   "source": [
    "## Train-validation split"
   ]
  },
  {
   "cell_type": "code",
   "execution_count": 22,
   "metadata": {},
   "outputs": [],
   "source": [
    "path = PATH/\"gw-train-315\""
   ]
  },
  {
   "cell_type": "code",
   "execution_count": 23,
   "metadata": {},
   "outputs": [],
   "source": [
    "files = get_files(path)"
   ]
  },
  {
   "cell_type": "code",
   "execution_count": 24,
   "metadata": {},
   "outputs": [],
   "source": [
    "file_labels = [p.parts[-2] for p in files]"
   ]
  },
  {
   "cell_type": "code",
   "execution_count": 25,
   "metadata": {},
   "outputs": [],
   "source": [
    "train_files, valid_files, y_train, y_valid = train_test_split(files, file_labels, test_size=0.2, random_state=42)"
   ]
  },
  {
   "cell_type": "markdown",
   "metadata": {},
   "source": [
    "## Dataset"
   ]
  },
  {
   "cell_type": "code",
   "execution_count": 26,
   "metadata": {},
   "outputs": [],
   "source": [
    "paths = [d for d in list(path.iterdir()) if d.is_dir()]"
   ]
  },
  {
   "cell_type": "code",
   "execution_count": 27,
   "metadata": {},
   "outputs": [],
   "source": [
    "labels = [p.parts[-1] for p in paths]"
   ]
  },
  {
   "cell_type": "code",
   "execution_count": 28,
   "metadata": {},
   "outputs": [],
   "source": [
    "train_ds = SandwichDataset(files=train_files, labels=labels, transforms=True)"
   ]
  },
  {
   "cell_type": "code",
   "execution_count": 29,
   "metadata": {},
   "outputs": [],
   "source": [
    "valid_ds = SandwichDataset(files=valid_files, labels=labels, transforms=False)"
   ]
  },
  {
   "cell_type": "code",
   "execution_count": 30,
   "metadata": {},
   "outputs": [],
   "source": [
    "x, y = train_ds[0]"
   ]
  },
  {
   "cell_type": "code",
   "execution_count": 31,
   "metadata": {},
   "outputs": [],
   "source": [
    "batch_size = 50"
   ]
  },
  {
   "cell_type": "code",
   "execution_count": 32,
   "metadata": {},
   "outputs": [],
   "source": [
    "train_dl = DataLoader(train_ds, batch_size=batch_size, shuffle=True)"
   ]
  },
  {
   "cell_type": "code",
   "execution_count": 33,
   "metadata": {},
   "outputs": [],
   "source": [
    "valid_dl = DataLoader(valid_ds, batch_size=batch_size, shuffle=False)"
   ]
  },
  {
   "cell_type": "code",
   "execution_count": 34,
   "metadata": {},
   "outputs": [],
   "source": [
    "x, y = next(iter(train_dl))"
   ]
  },
  {
   "cell_type": "code",
   "execution_count": 35,
   "metadata": {},
   "outputs": [],
   "source": [
    "x = x.cuda().float()\n",
    "y = y.cuda()"
   ]
  },
  {
   "cell_type": "markdown",
   "metadata": {},
   "source": [
    "## Initialize pre-trained model with frozen hidden layers, train with fixed learning rate for 10 epochs"
   ]
  },
  {
   "cell_type": "code",
   "execution_count": 40,
   "metadata": {},
   "outputs": [],
   "source": [
    "def train(model, epochs=5, learning_rate=0.01):\n",
    "    optimzer = get_optimizer(model, lr=learning_rate, wd=0)\n",
    "    prev_val_acc = 0.0\n",
    "    for i in range(epochs):\n",
    "        model.train()\n",
    "        total = 0\n",
    "        sum_loss = 0\n",
    "        for x, y in train_dl:\n",
    "            batch = y.shape[0]\n",
    "            x = x.cuda().float()\n",
    "            y = y.cuda()\n",
    "            out = model(x)\n",
    "            loss = F.cross_entropy(out, y)\n",
    "            optimzer.zero_grad()\n",
    "            loss.backward()\n",
    "            optimzer.step()\n",
    "            total += batch\n",
    "            sum_loss += batch*(loss.item())\n",
    "        val_loss, val_acc = val_metrics(model, valid_dl)\n",
    "        if i % 2 == 0:\n",
    "            print(\"train loss %.3f val loss %.3f val accuracy %.3f\" % (sum_loss/total, val_loss, val_acc))\n",
    "        if val_acc > prev_val_acc: \n",
    "            prev_val_acc = val_acc\n",
    "            if val_acc > 0.6:\n",
    "                path = \"{0}/initial_gw_resnet_{1:.0f}.pth\".format(model_path, 100*val_acc)\n",
    "                save_model(model, path)\n",
    "                print(path)"
   ]
  },
  {
   "cell_type": "code",
   "execution_count": 41,
   "metadata": {},
   "outputs": [],
   "source": [
    "model = Resnet().cuda()"
   ]
  },
  {
   "cell_type": "code",
   "execution_count": 42,
   "metadata": {
    "scrolled": false
   },
   "outputs": [
    {
     "name": "stdout",
     "output_type": "stream",
     "text": [
      "train loss 1.513 val loss 0.962 val accuracy 0.654\n",
      "/home/ubuntu/models/sandwich/initial_gw_resnet_65.pth\n",
      "/home/ubuntu/models/sandwich/initial_gw_resnet_66.pth\n",
      "train loss 0.837 val loss 0.988 val accuracy 0.652\n",
      "/home/ubuntu/models/sandwich/initial_gw_resnet_69.pth\n",
      "train loss 0.857 val loss 1.171 val accuracy 0.663\n",
      "/home/ubuntu/models/sandwich/initial_gw_resnet_73.pth\n",
      "train loss 0.836 val loss 0.853 val accuracy 0.714\n",
      "/home/ubuntu/models/sandwich/initial_gw_resnet_74.pth\n",
      "train loss 0.778 val loss 0.854 val accuracy 0.729\n"
     ]
    }
   ],
   "source": [
    "train(model, epochs=10, learning_rate=0.01)"
   ]
  },
  {
   "cell_type": "markdown",
   "metadata": {},
   "source": [
    "## Unfreeze top 2 hidden layers, train with lower learning rate for additional 20 epochs"
   ]
  },
  {
   "cell_type": "code",
   "execution_count": 43,
   "metadata": {},
   "outputs": [],
   "source": [
    "model = Resnet().cuda()"
   ]
  },
  {
   "cell_type": "code",
   "execution_count": 44,
   "metadata": {},
   "outputs": [],
   "source": [
    "load_model(model, model_path/\"initial_gw_resnet_74.pth\")"
   ]
  },
  {
   "cell_type": "code",
   "execution_count": 45,
   "metadata": {
    "scrolled": true
   },
   "outputs": [
    {
     "data": {
      "text/plain": [
       "(0.8291657037205167, 0.7377777777777778)"
      ]
     },
     "execution_count": 45,
     "metadata": {},
     "output_type": "execute_result"
    }
   ],
   "source": [
    "val_metrics(model, valid_dl)"
   ]
  },
  {
   "cell_type": "code",
   "execution_count": 46,
   "metadata": {},
   "outputs": [],
   "source": [
    "unfreeze(model, 7)\n",
    "unfreeze(model, 6)"
   ]
  },
  {
   "cell_type": "code",
   "execution_count": 47,
   "metadata": {},
   "outputs": [],
   "source": [
    "def train2(model, epochs=5, learning_rate=0.01):\n",
    "    optimzer = get_optimizer(model, lr=learning_rate, wd=0)\n",
    "    prev_val_acc = 0.0\n",
    "    for i in range(epochs):\n",
    "        model.train()\n",
    "        total = 0\n",
    "        sum_loss = 0\n",
    "        for x, y in train_dl:\n",
    "            batch = y.shape[0]\n",
    "            x = x.cuda().float()\n",
    "            y = y.cuda()\n",
    "            out = model(x)\n",
    "            loss = F.cross_entropy(out, y)\n",
    "            optimzer.zero_grad()\n",
    "            loss.backward()\n",
    "            optimzer.step()\n",
    "            total += batch\n",
    "            sum_loss += batch*(loss.item())\n",
    "        val_loss, val_acc = val_metrics(model, valid_dl)\n",
    "        if i % 2 == 0:\n",
    "            print(\"train loss %.3f val loss %.3f val accuracy %.3f\" % (sum_loss/total, val_loss, val_acc))\n",
    "        if val_acc > prev_val_acc: \n",
    "            prev_val_acc = val_acc\n",
    "            if val_acc > 0.73:\n",
    "                path = \"{0}/unfreeze_gw_resnet_{1:.0f}.pth\".format(model_path, 100*val_acc)\n",
    "                save_model(model, path)\n",
    "                print(path)"
   ]
  },
  {
   "cell_type": "code",
   "execution_count": 48,
   "metadata": {},
   "outputs": [
    {
     "name": "stdout",
     "output_type": "stream",
     "text": [
      "train loss 1.145 val loss 0.874 val accuracy 0.722\n",
      "train loss 0.545 val loss 0.668 val accuracy 0.780\n",
      "/home/ubuntu/models/sandwich/unfreeze_gw_resnet_78.pth\n",
      "train loss 0.376 val loss 1.178 val accuracy 0.694\n",
      "train loss 0.281 val loss 0.919 val accuracy 0.752\n",
      "train loss 0.218 val loss 0.786 val accuracy 0.789\n",
      "/home/ubuntu/models/sandwich/unfreeze_gw_resnet_79.pth\n",
      "train loss 0.185 val loss 0.745 val accuracy 0.809\n",
      "/home/ubuntu/models/sandwich/unfreeze_gw_resnet_81.pth\n",
      "/home/ubuntu/models/sandwich/unfreeze_gw_resnet_82.pth\n",
      "train loss 0.143 val loss 1.291 val accuracy 0.693\n",
      "train loss 0.114 val loss 0.982 val accuracy 0.746\n",
      "train loss 0.124 val loss 0.687 val accuracy 0.804\n",
      "train loss 0.093 val loss 0.851 val accuracy 0.802\n"
     ]
    }
   ],
   "source": [
    "train2(model, epochs=20, learning_rate=0.001)"
   ]
  },
  {
   "cell_type": "code",
   "execution_count": 49,
   "metadata": {},
   "outputs": [],
   "source": [
    "model = Resnet().cuda()"
   ]
  },
  {
   "cell_type": "code",
   "execution_count": 50,
   "metadata": {},
   "outputs": [],
   "source": [
    "load_model(model, model_path/\"/home/ubuntu/models/sandwich/unfreeze_gw_resnet_82.pth\")"
   ]
  },
  {
   "cell_type": "code",
   "execution_count": 51,
   "metadata": {},
   "outputs": [
    {
     "data": {
      "text/plain": [
       "(0.8151458816395866, 0.8188888888888889)"
      ]
     },
     "execution_count": 51,
     "metadata": {},
     "output_type": "execute_result"
    }
   ],
   "source": [
    "val_metrics(model, valid_dl)"
   ]
  },
  {
   "cell_type": "markdown",
   "metadata": {},
   "source": [
    "## Learning rate range test"
   ]
  },
  {
   "cell_type": "code",
   "execution_count": 52,
   "metadata": {},
   "outputs": [],
   "source": [
    "def LR_range_finder(model, train_dl, lr_low=1e-5, lr_high=0.1, epochs=5):\n",
    "    losses = []\n",
    "    p = model_path/\"resnet_tmp.pth\"\n",
    "    save_model(model, str(p))\n",
    "    iterations = epochs * len(train_dl)\n",
    "    delta = (lr_high - lr_low)/iterations\n",
    "    lrs = [lr_low + i*delta for i in range(iterations)]\n",
    "    model.train()\n",
    "    ind = 0\n",
    "    optimizer = get_optimizer(model, lr=lrs[0], wd=0.0)\n",
    "    for i in range(epochs):\n",
    "        for x, y in train_dl:\n",
    "            update_optimizer(optimizer, lr=lrs[ind])\n",
    "            x = x.cuda().float()\n",
    "            y = y.cuda()\n",
    "            out = model(x)\n",
    "            loss = F.cross_entropy(out, y)\n",
    "            optimizer.zero_grad()\n",
    "            loss.backward()\n",
    "            optimizer.step()\n",
    "            losses.append(loss.item())\n",
    "            ind += 1\n",
    "            \n",
    "    load_model(model, str(p))\n",
    "    return lrs, losses"
   ]
  },
  {
   "cell_type": "code",
   "execution_count": 53,
   "metadata": {},
   "outputs": [],
   "source": [
    "model = Resnet().cuda()"
   ]
  },
  {
   "cell_type": "code",
   "execution_count": 57,
   "metadata": {},
   "outputs": [],
   "source": [
    "lrs, losses = LR_range_finder(model, train_dl)"
   ]
  },
  {
   "cell_type": "code",
   "execution_count": 58,
   "metadata": {
    "scrolled": true
   },
   "outputs": [
    {
     "data": {
      "image/png": "[encoded data removed]",
      "text/plain": [
       "<Figure size 432x288 with 1 Axes>"
      ]
     },
     "metadata": {},
     "output_type": "display_data"
    }
   ],
   "source": [
    "plt.plot(lrs, losses)\n",
    "plt.show()"
   ]
  },
  {
   "cell_type": "markdown",
   "metadata": {},
   "source": [
    "## Discriminative fine-tuning, gradual unfreezing, and 1-cycle triangular learning rate"
   ]
  },
  {
   "cell_type": "markdown",
   "metadata": {},
   "source": [
    "### Initialize model with groups of layers"
   ]
  },
  {
   "cell_type": "code",
   "execution_count": 59,
   "metadata": {},
   "outputs": [],
   "source": [
    "model = ResnetV2().cuda()"
   ]
  },
  {
   "cell_type": "markdown",
   "metadata": {},
   "source": [
    "### 1-cycle rate training, unfreeze top hidden layers for 30 epochs"
   ]
  },
  {
   "cell_type": "code",
   "execution_count": 60,
   "metadata": {},
   "outputs": [],
   "source": [
    "def train_triangular_policy2(model, train_dl, valid_dl, max_lr=0.05, epochs=10):\n",
    "    idx = 0\n",
    "    iterations = epochs*len(train_dl)\n",
    "    lrs = get_cosine_triangular_lr(max_lr, iterations)\n",
    "    optimizer = create_optimizer(model, lrs[0])\n",
    "    prev_val_acc = 0.0\n",
    "    for j in range(epochs):\n",
    "        model.train()\n",
    "        total = 0\n",
    "        sum_loss = 0\n",
    "        for i, (x, y) in enumerate(train_dl):\n",
    "            lr = lrs[idx]\n",
    "            update_optimizer_group(optimizer, [lr/9, lr/3, lr]) # In each iteration, update group learning rates\n",
    "            batch = y.shape[0]\n",
    "            x = x.cuda().float()\n",
    "            y = y.cuda()\n",
    "            out = model(x)\n",
    "            loss = F.cross_entropy(out, y)\n",
    "            optimizer.zero_grad()\n",
    "            loss.backward()\n",
    "            optimizer.step()\n",
    "            idx += 1\n",
    "            if idx == int(0.1*iterations):\n",
    "                model.unfreeze(1)\n",
    "                print(idx, \"unfreezing 1\")\n",
    "            total += batch\n",
    "            sum_loss += batch*(loss.item())\n",
    "        train_loss = sum_loss/total\n",
    "        val_loss, val_acc = val_metrics(model, valid_dl)\n",
    "        print(\"train_loss %.3f val_loss %.3f val_acc %.3f\" % (train_loss, val_loss, val_acc))\n",
    "        if val_acc > prev_val_acc: \n",
    "            prev_val_acc = val_acc\n",
    "            if val_acc > 0.73:\n",
    "                path = \"{0}/ft_gw_resnet_{1:.0f}.pth\".format(model_path, 100*val_acc)\n",
    "                save_model(model, path)\n",
    "                print(path)\n",
    "    return sum_loss/total"
   ]
  },
  {
   "cell_type": "code",
   "execution_count": 61,
   "metadata": {},
   "outputs": [],
   "source": [
    "batch_size = 50"
   ]
  },
  {
   "cell_type": "code",
   "execution_count": 62,
   "metadata": {},
   "outputs": [],
   "source": [
    "train_dl = DataLoader(train_ds, batch_size=batch_size, shuffle=True)"
   ]
  },
  {
   "cell_type": "code",
   "execution_count": 63,
   "metadata": {},
   "outputs": [],
   "source": [
    "valid_dl = DataLoader(valid_ds, batch_size=batch_size, shuffle=False)"
   ]
  },
  {
   "cell_type": "code",
   "execution_count": 64,
   "metadata": {},
   "outputs": [
    {
     "data": {
      "text/plain": [
       "(1.9244559076097276, 0.1622222222222222)"
      ]
     },
     "execution_count": 64,
     "metadata": {},
     "output_type": "execute_result"
    }
   ],
   "source": [
    "val_metrics(model, valid_dl)"
   ]
  },
  {
   "cell_type": "code",
   "execution_count": 65,
   "metadata": {},
   "outputs": [
    {
     "name": "stdout",
     "output_type": "stream",
     "text": [
      "train_loss 1.422 val_loss 1.042 val_acc 0.647\n",
      "train_loss 0.957 val_loss 1.016 val_acc 0.602\n",
      "216 unfreezing 1\n",
      "train_loss 0.912 val_loss 0.992 val_acc 0.678\n",
      "train_loss 2.015 val_loss 1.442 val_acc 0.400\n",
      "train_loss 1.317 val_loss 2.546 val_acc 0.311\n",
      "train_loss 1.115 val_loss 4.264 val_acc 0.553\n",
      "train_loss 1.169 val_loss 1.418 val_acc 0.528\n",
      "train_loss 0.967 val_loss 1.193 val_acc 0.581\n",
      "train_loss 0.808 val_loss 89.946 val_acc 0.422\n",
      "train_loss 0.797 val_loss 1.269 val_acc 0.638\n",
      "train_loss 0.705 val_loss 0.870 val_acc 0.716\n",
      "train_loss 0.653 val_loss 1.085 val_acc 0.658\n",
      "train_loss 0.587 val_loss 1.029 val_acc 0.672\n",
      "train_loss 0.536 val_loss 0.820 val_acc 0.730\n",
      "train_loss 0.501 val_loss 0.980 val_acc 0.710\n",
      "train_loss 0.464 val_loss 0.959 val_acc 0.721\n",
      "train_loss 0.436 val_loss 1.060 val_acc 0.707\n",
      "train_loss 0.411 val_loss 1.089 val_acc 0.709\n",
      "train_loss 0.380 val_loss 0.724 val_acc 0.782\n",
      "/home/ubuntu/models/sandwich/ft_gw_resnet_78.pth\n",
      "train_loss 0.319 val_loss 0.653 val_acc 0.802\n",
      "/home/ubuntu/models/sandwich/ft_gw_resnet_80.pth\n",
      "train_loss 0.249 val_loss 0.738 val_acc 0.800\n",
      "train_loss 0.213 val_loss 0.712 val_acc 0.811\n",
      "/home/ubuntu/models/sandwich/ft_gw_resnet_81.pth\n",
      "train_loss 0.208 val_loss 0.663 val_acc 0.808\n",
      "train_loss 0.176 val_loss 0.724 val_acc 0.816\n",
      "/home/ubuntu/models/sandwich/ft_gw_resnet_82.pth\n",
      "train_loss 0.153 val_loss 0.755 val_acc 0.802\n",
      "train_loss 0.136 val_loss 0.715 val_acc 0.813\n",
      "train_loss 0.098 val_loss 0.735 val_acc 0.818\n",
      "/home/ubuntu/models/sandwich/ft_gw_resnet_82.pth\n",
      "train_loss 0.086 val_loss 0.728 val_acc 0.826\n",
      "/home/ubuntu/models/sandwich/ft_gw_resnet_83.pth\n",
      "train_loss 0.071 val_loss 0.752 val_acc 0.823\n",
      "train_loss 0.073 val_loss 0.748 val_acc 0.824\n"
     ]
    },
    {
     "data": {
      "text/plain": [
       "0.07300818271728025"
      ]
     },
     "execution_count": 65,
     "metadata": {},
     "output_type": "execute_result"
    }
   ],
   "source": [
    "train_triangular_policy2(model, train_dl, valid_dl, max_lr=0.05, epochs=30)"
   ]
  },
  {
   "cell_type": "code",
   "execution_count": 66,
   "metadata": {},
   "outputs": [],
   "source": [
    "model = ResnetV2().cuda()"
   ]
  },
  {
   "cell_type": "code",
   "execution_count": 67,
   "metadata": {},
   "outputs": [],
   "source": [
    "load_model(model, model_path/\"ft_gw_resnet_83.pth\")"
   ]
  },
  {
   "cell_type": "code",
   "execution_count": 68,
   "metadata": {
    "scrolled": true
   },
   "outputs": [
    {
     "data": {
      "text/plain": [
       "(0.7284822397761874, 0.8255555555555556)"
      ]
     },
     "execution_count": 68,
     "metadata": {},
     "output_type": "execute_result"
    }
   ],
   "source": [
    "val_metrics(model, valid_dl)"
   ]
  },
  {
   "cell_type": "code",
   "execution_count": null,
   "metadata": {},
   "outputs": [],
   "source": []
  },
  {
   "cell_type": "markdown",
   "metadata": {},
   "source": [
    "# II. Resnet34 on images preprocessed with Histogram Equalization"
   ]
  },
  {
   "cell_type": "markdown",
   "metadata": {},
   "source": [
    "## Train-validation split"
   ]
  },
  {
   "cell_type": "code",
   "execution_count": 69,
   "metadata": {},
   "outputs": [],
   "source": [
    "path = PATH/\"he-train-315\""
   ]
  },
  {
   "cell_type": "code",
   "execution_count": 70,
   "metadata": {},
   "outputs": [],
   "source": [
    "files = get_files(path)"
   ]
  },
  {
   "cell_type": "code",
   "execution_count": 71,
   "metadata": {},
   "outputs": [],
   "source": [
    "file_labels = [p.parts[-2] for p in files]"
   ]
  },
  {
   "cell_type": "code",
   "execution_count": 72,
   "metadata": {},
   "outputs": [],
   "source": [
    "train_files, valid_files, y_train, y_valid = train_test_split(files, file_labels, test_size=0.2, random_state=42)"
   ]
  },
  {
   "cell_type": "markdown",
   "metadata": {},
   "source": [
    "## Dataset"
   ]
  },
  {
   "cell_type": "code",
   "execution_count": 73,
   "metadata": {},
   "outputs": [],
   "source": [
    "paths = [d for d in list(path.iterdir()) if d.is_dir()]"
   ]
  },
  {
   "cell_type": "code",
   "execution_count": 74,
   "metadata": {},
   "outputs": [],
   "source": [
    "labels = [p.parts[-1] for p in paths]"
   ]
  },
  {
   "cell_type": "code",
   "execution_count": 75,
   "metadata": {},
   "outputs": [],
   "source": [
    "train_ds = SandwichDataset(files=train_files, labels=labels, transforms=True)"
   ]
  },
  {
   "cell_type": "code",
   "execution_count": 76,
   "metadata": {},
   "outputs": [],
   "source": [
    "valid_ds = SandwichDataset(files=valid_files, labels=labels, transforms=False)"
   ]
  },
  {
   "cell_type": "code",
   "execution_count": 77,
   "metadata": {},
   "outputs": [],
   "source": [
    "x, y = train_ds[0]"
   ]
  },
  {
   "cell_type": "code",
   "execution_count": 78,
   "metadata": {},
   "outputs": [],
   "source": [
    "batch_size = 50"
   ]
  },
  {
   "cell_type": "code",
   "execution_count": 79,
   "metadata": {},
   "outputs": [],
   "source": [
    "train_dl = DataLoader(train_ds, batch_size=batch_size, shuffle=True)"
   ]
  },
  {
   "cell_type": "code",
   "execution_count": 80,
   "metadata": {},
   "outputs": [],
   "source": [
    "valid_dl = DataLoader(valid_ds, batch_size=batch_size, shuffle=False)"
   ]
  },
  {
   "cell_type": "code",
   "execution_count": 81,
   "metadata": {},
   "outputs": [],
   "source": [
    "x, y = next(iter(train_dl))"
   ]
  },
  {
   "cell_type": "code",
   "execution_count": 82,
   "metadata": {},
   "outputs": [],
   "source": [
    "x = x.cuda().float()\n",
    "y = y.cuda()"
   ]
  },
  {
   "cell_type": "markdown",
   "metadata": {},
   "source": [
    "## Initialize pre-trained model with frozen hidden layers, train model with fixed learning rate for 10 epochs"
   ]
  },
  {
   "cell_type": "code",
   "execution_count": 87,
   "metadata": {},
   "outputs": [],
   "source": [
    "def train(model, epochs=5, learning_rate=0.01):\n",
    "    optimzer = get_optimizer(model, lr=learning_rate, wd=0)\n",
    "    prev_val_acc = 0.0\n",
    "    for i in range(epochs):\n",
    "        model.train()\n",
    "        total = 0\n",
    "        sum_loss = 0\n",
    "        for x, y in train_dl:\n",
    "            batch = y.shape[0]\n",
    "            x = x.cuda().float()\n",
    "            y = y.cuda()\n",
    "            out = model(x)\n",
    "            loss = F.cross_entropy(out, y)\n",
    "            optimzer.zero_grad()\n",
    "            loss.backward()\n",
    "            optimzer.step()\n",
    "            total += batch\n",
    "            sum_loss += batch*(loss.item())\n",
    "        val_loss, val_acc = val_metrics(model, valid_dl)\n",
    "        if i % 2 == 0:\n",
    "            print(\"train loss %.3f val loss %.3f val accuracy %.3f\" % (sum_loss/total, val_loss, val_acc))\n",
    "        if val_acc > prev_val_acc: \n",
    "            prev_val_acc = val_acc\n",
    "            if val_acc > 0.6:\n",
    "                path = \"{0}/initial_he_resnet_{1:.0f}.pth\".format(model_path, 100*val_acc)\n",
    "                save_model(model, path)\n",
    "                print(path)"
   ]
  },
  {
   "cell_type": "code",
   "execution_count": 88,
   "metadata": {},
   "outputs": [],
   "source": [
    "model = Resnet().cuda()"
   ]
  },
  {
   "cell_type": "code",
   "execution_count": 89,
   "metadata": {
    "scrolled": false
   },
   "outputs": [
    {
     "name": "stdout",
     "output_type": "stream",
     "text": [
      "train loss 1.682 val loss 0.982 val accuracy 0.636\n",
      "/home/ubuntu/models/sandwich/initial_he_resnet_64.pth\n",
      "train loss 0.890 val loss 0.851 val accuracy 0.717\n",
      "/home/ubuntu/models/sandwich/initial_he_resnet_72.pth\n",
      "train loss 0.844 val loss 0.813 val accuracy 0.734\n",
      "/home/ubuntu/models/sandwich/initial_he_resnet_73.pth\n",
      "train loss 0.790 val loss 0.800 val accuracy 0.731\n",
      "train loss 0.786 val loss 0.892 val accuracy 0.690\n"
     ]
    }
   ],
   "source": [
    "train(model, epochs=10, learning_rate=0.01)"
   ]
  },
  {
   "cell_type": "markdown",
   "metadata": {},
   "source": [
    "## Unfreeze top 2 hidden layers, train with lower learning rate for additional 20 epochs"
   ]
  },
  {
   "cell_type": "code",
   "execution_count": 90,
   "metadata": {},
   "outputs": [],
   "source": [
    "model = Resnet().cuda()"
   ]
  },
  {
   "cell_type": "code",
   "execution_count": 91,
   "metadata": {},
   "outputs": [],
   "source": [
    "load_model(model, model_path/\"initial_he_resnet_73.pth\")"
   ]
  },
  {
   "cell_type": "code",
   "execution_count": 92,
   "metadata": {
    "scrolled": true
   },
   "outputs": [
    {
     "data": {
      "text/plain": [
       "(0.8128087818622589, 0.7344444444444445)"
      ]
     },
     "execution_count": 92,
     "metadata": {},
     "output_type": "execute_result"
    }
   ],
   "source": [
    "val_metrics(model, valid_dl)"
   ]
  },
  {
   "cell_type": "code",
   "execution_count": 93,
   "metadata": {},
   "outputs": [],
   "source": [
    "unfreeze(model, 7)\n",
    "unfreeze(model, 6)"
   ]
  },
  {
   "cell_type": "code",
   "execution_count": 94,
   "metadata": {},
   "outputs": [],
   "source": [
    "def train2(model, epochs=5, learning_rate=0.01):\n",
    "    optimzer = get_optimizer(model, lr=learning_rate, wd=0)\n",
    "    prev_val_acc = 0.0\n",
    "    for i in range(epochs):\n",
    "        model.train()\n",
    "        total = 0\n",
    "        sum_loss = 0\n",
    "        for x, y in train_dl:\n",
    "            batch = y.shape[0]\n",
    "            x = x.cuda().float()\n",
    "            y = y.cuda()\n",
    "            out = model(x)\n",
    "            loss = F.cross_entropy(out, y)\n",
    "            optimzer.zero_grad()\n",
    "            loss.backward()\n",
    "            optimzer.step()\n",
    "            total += batch\n",
    "            sum_loss += batch*(loss.item())\n",
    "        val_loss, val_acc = val_metrics(model, valid_dl)\n",
    "        if i % 2 == 0:\n",
    "            print(\"train loss %.3f val loss %.3f val accuracy %.3f\" % (sum_loss/total, val_loss, val_acc))\n",
    "        if val_acc > prev_val_acc: \n",
    "            prev_val_acc = val_acc\n",
    "            if val_acc > 0.73:\n",
    "                path = \"{0}/unfreeze_he_resnet_{1:.0f}.pth\".format(model_path, 100*val_acc)\n",
    "                save_model(model, path)\n",
    "                print(path)"
   ]
  },
  {
   "cell_type": "code",
   "execution_count": 95,
   "metadata": {},
   "outputs": [
    {
     "name": "stdout",
     "output_type": "stream",
     "text": [
      "train loss 1.140 val loss 0.854 val accuracy 0.707\n",
      "train loss 0.588 val loss 0.939 val accuracy 0.658\n",
      "train loss 0.419 val loss 0.938 val accuracy 0.693\n",
      "/home/ubuntu/models/sandwich/unfreeze_he_resnet_76.pth\n",
      "train loss 0.307 val loss 0.888 val accuracy 0.736\n",
      "train loss 0.260 val loss 0.697 val accuracy 0.796\n",
      "/home/ubuntu/models/sandwich/unfreeze_he_resnet_80.pth\n",
      "train loss 0.189 val loss 0.685 val accuracy 0.819\n",
      "/home/ubuntu/models/sandwich/unfreeze_he_resnet_82.pth\n",
      "train loss 0.155 val loss 1.026 val accuracy 0.741\n",
      "train loss 0.160 val loss 0.849 val accuracy 0.789\n",
      "train loss 0.123 val loss 1.079 val accuracy 0.723\n",
      "train loss 0.110 val loss 0.874 val accuracy 0.796\n"
     ]
    }
   ],
   "source": [
    "train2(model, epochs=20, learning_rate=0.001)"
   ]
  },
  {
   "cell_type": "code",
   "execution_count": 66,
   "metadata": {},
   "outputs": [],
   "source": [
    "model = Resnet().cuda()"
   ]
  },
  {
   "cell_type": "code",
   "execution_count": 67,
   "metadata": {},
   "outputs": [],
   "source": [
    "load_model(model, model_path/\"/home/ubuntu/models/sandwich/unfreeze_he_resnet_82.pth\")"
   ]
  },
  {
   "cell_type": "code",
   "execution_count": 68,
   "metadata": {},
   "outputs": [
    {
     "data": {
      "text/plain": [
       "(0.7747624334361818, 0.8077777777777778)"
      ]
     },
     "execution_count": 68,
     "metadata": {},
     "output_type": "execute_result"
    }
   ],
   "source": [
    "val_metrics(model, valid_dl)"
   ]
  },
  {
   "cell_type": "markdown",
   "metadata": {},
   "source": [
    "## Discriminative fine-tuning, gradual unfreezing, and 1-cycle triangular learning rate"
   ]
  },
  {
   "cell_type": "markdown",
   "metadata": {},
   "source": [
    "### Initialize model with groups of layers"
   ]
  },
  {
   "cell_type": "code",
   "execution_count": 79,
   "metadata": {},
   "outputs": [],
   "source": [
    "model = ResnetV2().cuda()"
   ]
  },
  {
   "cell_type": "markdown",
   "metadata": {},
   "source": [
    "### 1-cycle rate training, unfreeze top hidden layers, train for 30 epochs"
   ]
  },
  {
   "cell_type": "code",
   "execution_count": 75,
   "metadata": {},
   "outputs": [],
   "source": [
    "def train_triangular_policy2(model, train_dl, valid_dl, max_lr=0.05, epochs=10):\n",
    "    idx = 0\n",
    "    iterations = epochs*len(train_dl)\n",
    "    lrs = get_cosine_triangular_lr(max_lr, iterations)\n",
    "    optimizer = create_optimizer(model, lrs[0])\n",
    "    prev_val_acc = 0.0\n",
    "    for j in range(epochs):\n",
    "        model.train()\n",
    "        total = 0\n",
    "        sum_loss = 0\n",
    "        for i, (x, y) in enumerate(train_dl):\n",
    "            lr = lrs[idx]\n",
    "            update_optimizer_group(optimizer, [lr/9, lr/3, lr]) # In each iteration, update group learning rates\n",
    "            batch = y.shape[0]\n",
    "            x = x.cuda().float()\n",
    "            y = y.cuda()\n",
    "            out = model(x)\n",
    "            loss = F.cross_entropy(out, y)\n",
    "            optimizer.zero_grad()\n",
    "            loss.backward()\n",
    "            optimizer.step()\n",
    "            idx += 1\n",
    "            if idx == int(0.1*iterations):\n",
    "                model.unfreeze(1)\n",
    "                print(idx, \"unfreezing 1\")\n",
    "            total += batch\n",
    "            sum_loss += batch*(loss.item())\n",
    "        train_loss = sum_loss/total\n",
    "        val_loss, val_acc = val_metrics(model, valid_dl)\n",
    "        print(\"train_loss %.3f val_loss %.3f val_acc %.3f\" % (train_loss, val_loss, val_acc))\n",
    "        if val_acc > prev_val_acc: \n",
    "            prev_val_acc = val_acc\n",
    "            if val_acc > 0.73:\n",
    "                path = \"{0}/ft_he_resnet_{1:.0f}.pth\".format(model_path, 100*val_acc)\n",
    "                save_model(model, path)\n",
    "                print(path)\n",
    "    return sum_loss/total"
   ]
  },
  {
   "cell_type": "code",
   "execution_count": 76,
   "metadata": {},
   "outputs": [],
   "source": [
    "batch_size = 50"
   ]
  },
  {
   "cell_type": "code",
   "execution_count": 77,
   "metadata": {},
   "outputs": [],
   "source": [
    "train_dl = DataLoader(train_ds, batch_size=batch_size, shuffle=True)"
   ]
  },
  {
   "cell_type": "code",
   "execution_count": 78,
   "metadata": {},
   "outputs": [],
   "source": [
    "valid_dl = DataLoader(valid_ds, batch_size=batch_size, shuffle=False)"
   ]
  },
  {
   "cell_type": "code",
   "execution_count": 80,
   "metadata": {},
   "outputs": [
    {
     "data": {
      "text/plain": [
       "(1.9079475204149883, 0.11333333333333333)"
      ]
     },
     "execution_count": 80,
     "metadata": {},
     "output_type": "execute_result"
    }
   ],
   "source": [
    "val_metrics(model, valid_dl)"
   ]
  },
  {
   "cell_type": "code",
   "execution_count": 81,
   "metadata": {},
   "outputs": [
    {
     "name": "stdout",
     "output_type": "stream",
     "text": [
      "train_loss 1.397 val_loss 0.988 val_acc 0.689\n",
      "train_loss 1.036 val_loss 1.000 val_acc 0.631\n",
      "216 unfreezing 1\n",
      "train_loss 1.077 val_loss 0.897 val_acc 0.670\n",
      "train_loss 2.127 val_loss 9.386 val_acc 0.196\n",
      "train_loss 1.388 val_loss 1.570 val_acc 0.441\n",
      "train_loss 1.110 val_loss 1.665 val_acc 0.450\n",
      "train_loss 1.015 val_loss 2.196 val_acc 0.463\n",
      "train_loss 0.958 val_loss 1.205 val_acc 0.596\n",
      "train_loss 0.857 val_loss 1.286 val_acc 0.647\n",
      "train_loss 0.770 val_loss 1.006 val_acc 0.697\n",
      "train_loss 0.729 val_loss 0.977 val_acc 0.673\n",
      "train_loss 0.673 val_loss 1.476 val_acc 0.612\n",
      "train_loss 0.586 val_loss 0.806 val_acc 0.729\n",
      "train_loss 0.559 val_loss 0.926 val_acc 0.711\n",
      "train_loss 0.525 val_loss 0.732 val_acc 0.769\n",
      "/home/ubuntu/models/sandwich/ft_he_resnet_77.pth\n",
      "train_loss 0.503 val_loss 0.755 val_acc 0.757\n",
      "train_loss 0.447 val_loss 0.729 val_acc 0.757\n",
      "train_loss 0.390 val_loss 0.827 val_acc 0.731\n",
      "train_loss 0.359 val_loss 0.787 val_acc 0.779\n",
      "/home/ubuntu/models/sandwich/ft_he_resnet_78.pth\n",
      "train_loss 0.318 val_loss 0.755 val_acc 0.776\n",
      "train_loss 0.274 val_loss 0.700 val_acc 0.800\n",
      "/home/ubuntu/models/sandwich/ft_he_resnet_80.pth\n",
      "train_loss 0.245 val_loss 0.708 val_acc 0.790\n",
      "train_loss 0.194 val_loss 0.781 val_acc 0.777\n",
      "train_loss 0.156 val_loss 0.740 val_acc 0.796\n",
      "train_loss 0.116 val_loss 0.731 val_acc 0.801\n",
      "/home/ubuntu/models/sandwich/ft_he_resnet_80.pth\n",
      "train_loss 0.104 val_loss 0.780 val_acc 0.806\n",
      "/home/ubuntu/models/sandwich/ft_he_resnet_81.pth\n",
      "train_loss 0.092 val_loss 0.746 val_acc 0.813\n",
      "/home/ubuntu/models/sandwich/ft_he_resnet_81.pth\n",
      "train_loss 0.067 val_loss 0.764 val_acc 0.816\n",
      "/home/ubuntu/models/sandwich/ft_he_resnet_82.pth\n",
      "train_loss 0.060 val_loss 0.793 val_acc 0.806\n",
      "train_loss 0.061 val_loss 0.781 val_acc 0.812\n"
     ]
    },
    {
     "data": {
      "text/plain": [
       "0.0605154422745626"
      ]
     },
     "execution_count": 81,
     "metadata": {},
     "output_type": "execute_result"
    }
   ],
   "source": [
    "train_triangular_policy2(model, train_dl, valid_dl, max_lr=0.05, epochs=30)"
   ]
  },
  {
   "cell_type": "code",
   "execution_count": 82,
   "metadata": {},
   "outputs": [],
   "source": [
    "model = ResnetV2().cuda()"
   ]
  },
  {
   "cell_type": "code",
   "execution_count": 83,
   "metadata": {},
   "outputs": [],
   "source": [
    "load_model(model, model_path/\"ft_he_resnet_82.pth\")"
   ]
  },
  {
   "cell_type": "code",
   "execution_count": 84,
   "metadata": {},
   "outputs": [
    {
     "data": {
      "text/plain": [
       "(0.7643823739555147, 0.8155555555555556)"
      ]
     },
     "execution_count": 84,
     "metadata": {},
     "output_type": "execute_result"
    }
   ],
   "source": [
    "val_metrics(model, valid_dl)"
   ]
  },
  {
   "cell_type": "code",
   "execution_count": null,
   "metadata": {},
   "outputs": [],
   "source": []
  },
  {
   "cell_type": "markdown",
   "metadata": {},
   "source": [
    "# III. Resnet34 on images preprocessed with Histogram Equalization + Grey World"
   ]
  },
  {
   "cell_type": "markdown",
   "metadata": {},
   "source": [
    "## Train-validation split"
   ]
  },
  {
   "cell_type": "code",
   "execution_count": 9,
   "metadata": {},
   "outputs": [],
   "source": [
    "path = PATH/\"hewg-train-315\""
   ]
  },
  {
   "cell_type": "code",
   "execution_count": 10,
   "metadata": {},
   "outputs": [],
   "source": [
    "files = get_files(path)"
   ]
  },
  {
   "cell_type": "code",
   "execution_count": 12,
   "metadata": {},
   "outputs": [],
   "source": [
    "file_labels = [p.parts[-2] for p in files]"
   ]
  },
  {
   "cell_type": "code",
   "execution_count": 13,
   "metadata": {},
   "outputs": [],
   "source": [
    "train_files, valid_files, y_train, y_valid = train_test_split(files, file_labels, test_size=0.2, random_state=42)"
   ]
  },
  {
   "cell_type": "markdown",
   "metadata": {},
   "source": [
    "## Dataset"
   ]
  },
  {
   "cell_type": "code",
   "execution_count": 21,
   "metadata": {},
   "outputs": [],
   "source": [
    "train_ds = SandwichDataset(files=train_files, labels=labels, transforms=True)"
   ]
  },
  {
   "cell_type": "code",
   "execution_count": 22,
   "metadata": {},
   "outputs": [],
   "source": [
    "valid_ds = SandwichDataset(files=valid_files, labels=labels, transforms=False)"
   ]
  },
  {
   "cell_type": "code",
   "execution_count": 24,
   "metadata": {},
   "outputs": [],
   "source": [
    "x, y = train_ds[0]"
   ]
  },
  {
   "cell_type": "code",
   "execution_count": 26,
   "metadata": {},
   "outputs": [],
   "source": [
    "batch_size = 50"
   ]
  },
  {
   "cell_type": "code",
   "execution_count": 27,
   "metadata": {},
   "outputs": [],
   "source": [
    "train_dl = DataLoader(train_ds, batch_size=batch_size, shuffle=True)"
   ]
  },
  {
   "cell_type": "code",
   "execution_count": 28,
   "metadata": {},
   "outputs": [],
   "source": [
    "valid_dl = DataLoader(valid_ds, batch_size=batch_size, shuffle=False)"
   ]
  },
  {
   "cell_type": "code",
   "execution_count": 29,
   "metadata": {},
   "outputs": [],
   "source": [
    "x, y = next(iter(train_dl))"
   ]
  },
  {
   "cell_type": "code",
   "execution_count": 30,
   "metadata": {},
   "outputs": [],
   "source": [
    "x = x.cuda().float()\n",
    "y = y.cuda()"
   ]
  },
  {
   "cell_type": "markdown",
   "metadata": {},
   "source": [
    "## Initialize pre-trained model with frozen hidden layers, train with fixed learning rate for 10 epochs"
   ]
  },
  {
   "cell_type": "code",
   "execution_count": 61,
   "metadata": {},
   "outputs": [],
   "source": [
    "def train(model, epochs=5, learning_rate=0.01):\n",
    "    optimzer = get_optimizer(model, lr=learning_rate, wd=0)\n",
    "    prev_val_acc = 0.0\n",
    "    for i in range(epochs):\n",
    "        model.train()\n",
    "        total = 0\n",
    "        sum_loss = 0\n",
    "        for x, y in train_dl:\n",
    "            batch = y.shape[0]\n",
    "            x = x.cuda().float()\n",
    "            y = y.cuda()\n",
    "            out = model(x)\n",
    "            loss = F.cross_entropy(out, y)\n",
    "            optimzer.zero_grad()\n",
    "            loss.backward()\n",
    "            optimzer.step()\n",
    "            total += batch\n",
    "            sum_loss += batch*(loss.item())\n",
    "        val_loss, val_acc = val_metrics(model, valid_dl)\n",
    "        if i % 2 == 0:\n",
    "            print(\"train loss %.3f val loss %.3f val accuracy %.3f\" % (sum_loss/total, val_loss, val_acc))\n",
    "        if val_acc > prev_val_acc: \n",
    "            prev_val_acc = val_acc\n",
    "            if val_acc > 0.6:\n",
    "                path = \"{0}/initial_hewg_resnet_{1:.0f}.pth\".format(model_path, 100*val_acc)\n",
    "                save_model(model, path)\n",
    "                print(path)"
   ]
  },
  {
   "cell_type": "code",
   "execution_count": 62,
   "metadata": {},
   "outputs": [],
   "source": [
    "model = Resnet().cuda()"
   ]
  },
  {
   "cell_type": "code",
   "execution_count": 63,
   "metadata": {
    "scrolled": false
   },
   "outputs": [
    {
     "name": "stdout",
     "output_type": "stream",
     "text": [
      "train loss 1.529 val loss 0.924 val accuracy 0.676\n",
      "/home/ubuntu/models/sandwich/initial_hewg_resnet_68.pth\n",
      "train loss 0.882 val loss 0.848 val accuracy 0.701\n",
      "/home/ubuntu/models/sandwich/initial_hewg_resnet_70.pth\n",
      "train loss 0.927 val loss 0.855 val accuracy 0.710\n",
      "/home/ubuntu/models/sandwich/initial_hewg_resnet_71.pth\n",
      "train loss 0.803 val loss 0.851 val accuracy 0.700\n",
      "train loss 0.838 val loss 0.967 val accuracy 0.686\n"
     ]
    }
   ],
   "source": [
    "train(model, epochs=10, learning_rate=0.01)"
   ]
  },
  {
   "cell_type": "markdown",
   "metadata": {},
   "source": [
    "## Unfreeze top 2 hidden layers, train with lower learning rate for additional 20 epochs"
   ]
  },
  {
   "cell_type": "code",
   "execution_count": 81,
   "metadata": {},
   "outputs": [],
   "source": [
    "model = Resnet().cuda()"
   ]
  },
  {
   "cell_type": "code",
   "execution_count": 82,
   "metadata": {},
   "outputs": [],
   "source": [
    "load_model(model, model_path/\"initial_hewg_resnet_71.pth\")"
   ]
  },
  {
   "cell_type": "code",
   "execution_count": 83,
   "metadata": {
    "scrolled": true
   },
   "outputs": [
    {
     "data": {
      "text/plain": [
       "(0.8553838498062558, 0.71)"
      ]
     },
     "execution_count": 83,
     "metadata": {},
     "output_type": "execute_result"
    }
   ],
   "source": [
    "val_metrics(model, valid_dl)"
   ]
  },
  {
   "cell_type": "code",
   "execution_count": 86,
   "metadata": {},
   "outputs": [],
   "source": [
    "unfreeze(model, 7)\n",
    "unfreeze(model, 6)"
   ]
  },
  {
   "cell_type": "code",
   "execution_count": 87,
   "metadata": {},
   "outputs": [],
   "source": [
    "def train2(model, epochs=5, learning_rate=0.01):\n",
    "    optimzer = get_optimizer(model, lr=learning_rate, wd=0)\n",
    "    prev_val_acc = 0.0\n",
    "    for i in range(epochs):\n",
    "        model.train()\n",
    "        total = 0\n",
    "        sum_loss = 0\n",
    "        for x, y in train_dl:\n",
    "            batch = y.shape[0]\n",
    "            x = x.cuda().float()\n",
    "            y = y.cuda()\n",
    "            out = model(x)\n",
    "            loss = F.cross_entropy(out, y)\n",
    "            optimzer.zero_grad()\n",
    "            loss.backward()\n",
    "            optimzer.step()\n",
    "            total += batch\n",
    "            sum_loss += batch*(loss.item())\n",
    "        val_loss, val_acc = val_metrics(model, valid_dl)\n",
    "        if i % 2 == 0:\n",
    "            print(\"train loss %.3f val loss %.3f val accuracy %.3f\" % (sum_loss/total, val_loss, val_acc))\n",
    "        if val_acc > prev_val_acc: \n",
    "            prev_val_acc = val_acc\n",
    "            if val_acc > 0.71:\n",
    "                path = \"{0}/unfreeze_hewg_resnet_{1:.0f}.pth\".format(model_path, 100*val_acc)\n",
    "                save_model(model, path)\n",
    "                print(path)"
   ]
  },
  {
   "cell_type": "code",
   "execution_count": 88,
   "metadata": {},
   "outputs": [
    {
     "name": "stdout",
     "output_type": "stream",
     "text": [
      "train loss 1.216 val loss 0.944 val accuracy 0.671\n",
      "train loss 0.562 val loss 0.796 val accuracy 0.732\n",
      "/home/ubuntu/models/sandwich/unfreeze_hewg_resnet_73.pth\n",
      "/home/ubuntu/models/sandwich/unfreeze_hewg_resnet_75.pth\n",
      "train loss 0.385 val loss 0.665 val accuracy 0.780\n",
      "/home/ubuntu/models/sandwich/unfreeze_hewg_resnet_78.pth\n",
      "train loss 0.308 val loss 0.832 val accuracy 0.749\n",
      "train loss 0.240 val loss 0.844 val accuracy 0.773\n",
      "train loss 0.204 val loss 0.836 val accuracy 0.761\n",
      "train loss 0.139 val loss 0.943 val accuracy 0.768\n",
      "/home/ubuntu/models/sandwich/unfreeze_hewg_resnet_79.pth\n",
      "train loss 0.125 val loss 0.858 val accuracy 0.772\n",
      "train loss 0.111 val loss 0.883 val accuracy 0.778\n",
      "train loss 0.083 val loss 0.861 val accuracy 0.777\n",
      "/home/ubuntu/models/sandwich/unfreeze_hewg_resnet_82.pth\n"
     ]
    }
   ],
   "source": [
    "train2(model, epochs=20, learning_rate=0.001)"
   ]
  },
  {
   "cell_type": "code",
   "execution_count": 89,
   "metadata": {},
   "outputs": [],
   "source": [
    "model = Resnet().cuda()"
   ]
  },
  {
   "cell_type": "code",
   "execution_count": 90,
   "metadata": {},
   "outputs": [],
   "source": [
    "load_model(model, model_path/\"/home/ubuntu/models/sandwich/unfreeze_hewg_resnet_82.pth\")"
   ]
  },
  {
   "cell_type": "code",
   "execution_count": 91,
   "metadata": {},
   "outputs": [
    {
     "data": {
      "text/plain": [
       "(0.7238615949948629, 0.8211111111111111)"
      ]
     },
     "execution_count": 91,
     "metadata": {},
     "output_type": "execute_result"
    }
   ],
   "source": [
    "val_metrics(model, valid_dl)"
   ]
  },
  {
   "cell_type": "markdown",
   "metadata": {},
   "source": [
    "## Discriminative fine-tuning, gradual unfreezing, and 1-cycle triangular learning rate"
   ]
  },
  {
   "cell_type": "markdown",
   "metadata": {},
   "source": [
    "### Initialize model with groups of layers"
   ]
  },
  {
   "cell_type": "code",
   "execution_count": 99,
   "metadata": {},
   "outputs": [],
   "source": [
    "model = ResnetV2().cuda()"
   ]
  },
  {
   "cell_type": "markdown",
   "metadata": {},
   "source": [
    "### 1-cycle rate training, unfreeze top hidden layers, train for 30 epochs"
   ]
  },
  {
   "cell_type": "code",
   "execution_count": 95,
   "metadata": {},
   "outputs": [],
   "source": [
    "def train_triangular_policy2(model, train_dl, valid_dl, max_lr=0.05, epochs=10):\n",
    "    idx = 0\n",
    "    iterations = epochs*len(train_dl)\n",
    "    lrs = get_cosine_triangular_lr(max_lr, iterations)\n",
    "    optimizer = create_optimizer(model, lrs[0])\n",
    "    prev_val_acc = 0.0\n",
    "    for j in range(epochs):\n",
    "        model.train()\n",
    "        total = 0\n",
    "        sum_loss = 0\n",
    "        for i, (x, y) in enumerate(train_dl):\n",
    "            lr = lrs[idx]\n",
    "            update_optimizer_group(optimizer, [lr/9, lr/3, lr]) # In each iteration, update group learning rates\n",
    "            batch = y.shape[0]\n",
    "            x = x.cuda().float()\n",
    "            y = y.cuda()\n",
    "            out = model(x)\n",
    "            loss = F.cross_entropy(out, y)\n",
    "            optimizer.zero_grad()\n",
    "            loss.backward()\n",
    "            optimizer.step()\n",
    "            idx += 1\n",
    "            if idx == int(0.1*iterations):\n",
    "                model.unfreeze(1)\n",
    "                print(idx, \"unfreezing 1\")\n",
    "            total += batch\n",
    "            sum_loss += batch*(loss.item())\n",
    "        train_loss = sum_loss/total\n",
    "        val_loss, val_acc = val_metrics(model, valid_dl)\n",
    "        print(\"train_loss %.3f val_loss %.3f val_acc %.3f\" % (train_loss, val_loss, val_acc))\n",
    "        if val_acc > prev_val_acc: \n",
    "            prev_val_acc = val_acc\n",
    "            if val_acc > 0.71:\n",
    "                path = \"{0}/ft_hewg_resnet_{1:.0f}.pth\".format(model_path, 100*val_acc)\n",
    "                save_model(model, path)\n",
    "                print(path)\n",
    "    return sum_loss/total"
   ]
  },
  {
   "cell_type": "code",
   "execution_count": 96,
   "metadata": {},
   "outputs": [],
   "source": [
    "batch_size = 50"
   ]
  },
  {
   "cell_type": "code",
   "execution_count": 97,
   "metadata": {},
   "outputs": [],
   "source": [
    "train_dl = DataLoader(train_ds, batch_size=batch_size, shuffle=True)"
   ]
  },
  {
   "cell_type": "code",
   "execution_count": 98,
   "metadata": {},
   "outputs": [],
   "source": [
    "valid_dl = DataLoader(valid_ds, batch_size=batch_size, shuffle=False)"
   ]
  },
  {
   "cell_type": "code",
   "execution_count": 100,
   "metadata": {},
   "outputs": [
    {
     "data": {
      "text/plain": [
       "(1.875699394279056, 0.17222222222222222)"
      ]
     },
     "execution_count": 100,
     "metadata": {},
     "output_type": "execute_result"
    }
   ],
   "source": [
    "val_metrics(model, valid_dl)"
   ]
  },
  {
   "cell_type": "code",
   "execution_count": 101,
   "metadata": {},
   "outputs": [
    {
     "name": "stdout",
     "output_type": "stream",
     "text": [
      "train_loss 1.430 val_loss 1.065 val_acc 0.650\n",
      "train_loss 1.034 val_loss 0.911 val_acc 0.681\n",
      "216 unfreezing 1\n",
      "train_loss 1.037 val_loss 1.255 val_acc 0.571\n",
      "train_loss 1.843 val_loss 1.433 val_acc 0.500\n",
      "train_loss 1.302 val_loss 1.505 val_acc 0.457\n",
      "train_loss 1.252 val_loss 224.853 val_acc 0.220\n",
      "train_loss 1.065 val_loss 2.609 val_acc 0.351\n",
      "train_loss 0.897 val_loss 1.179 val_acc 0.589\n",
      "train_loss 0.819 val_loss 1.554 val_acc 0.622\n",
      "train_loss 0.766 val_loss 0.850 val_acc 0.726\n",
      "/home/ubuntu/models/sandwich/ft_hewg_resnet_73.pth\n",
      "train_loss 0.741 val_loss 1.121 val_acc 0.640\n",
      "train_loss 0.710 val_loss 0.771 val_acc 0.746\n",
      "/home/ubuntu/models/sandwich/ft_hewg_resnet_75.pth\n",
      "train_loss 0.663 val_loss 1.112 val_acc 0.650\n",
      "train_loss 0.593 val_loss 0.764 val_acc 0.752\n",
      "/home/ubuntu/models/sandwich/ft_hewg_resnet_75.pth\n",
      "train_loss 0.534 val_loss 0.713 val_acc 0.773\n",
      "/home/ubuntu/models/sandwich/ft_hewg_resnet_77.pth\n",
      "train_loss 0.489 val_loss 0.770 val_acc 0.777\n",
      "/home/ubuntu/models/sandwich/ft_hewg_resnet_78.pth\n",
      "train_loss 0.458 val_loss 0.909 val_acc 0.712\n",
      "train_loss 0.381 val_loss 0.723 val_acc 0.766\n",
      "train_loss 0.347 val_loss 0.756 val_acc 0.776\n",
      "train_loss 0.302 val_loss 1.042 val_acc 0.727\n",
      "train_loss 0.269 val_loss 0.748 val_acc 0.771\n",
      "train_loss 0.223 val_loss 0.820 val_acc 0.753\n",
      "train_loss 0.199 val_loss 0.896 val_acc 0.774\n",
      "train_loss 0.156 val_loss 0.711 val_acc 0.810\n",
      "/home/ubuntu/models/sandwich/ft_hewg_resnet_81.pth\n",
      "train_loss 0.133 val_loss 0.710 val_acc 0.811\n",
      "/home/ubuntu/models/sandwich/ft_hewg_resnet_81.pth\n",
      "train_loss 0.116 val_loss 0.757 val_acc 0.818\n",
      "/home/ubuntu/models/sandwich/ft_hewg_resnet_82.pth\n",
      "train_loss 0.091 val_loss 0.759 val_acc 0.817\n",
      "train_loss 0.076 val_loss 0.756 val_acc 0.818\n",
      "train_loss 0.065 val_loss 0.764 val_acc 0.821\n",
      "/home/ubuntu/models/sandwich/ft_hewg_resnet_82.pth\n",
      "train_loss 0.071 val_loss 0.766 val_acc 0.822\n",
      "/home/ubuntu/models/sandwich/ft_hewg_resnet_82.pth\n"
     ]
    },
    {
     "data": {
      "text/plain": [
       "0.07116714126378712"
      ]
     },
     "execution_count": 101,
     "metadata": {},
     "output_type": "execute_result"
    }
   ],
   "source": [
    "train_triangular_policy2(model, train_dl, valid_dl, max_lr=0.05, epochs=30)"
   ]
  },
  {
   "cell_type": "code",
   "execution_count": 102,
   "metadata": {},
   "outputs": [],
   "source": [
    "model = ResnetV2().cuda()"
   ]
  },
  {
   "cell_type": "code",
   "execution_count": 103,
   "metadata": {},
   "outputs": [],
   "source": [
    "load_model(model, model_path/\"/home/ubuntu/models/sandwich/ft_hewg_resnet_82.pth\")"
   ]
  },
  {
   "cell_type": "code",
   "execution_count": 104,
   "metadata": {},
   "outputs": [
    {
     "data": {
      "text/plain": [
       "(0.7655745827489429, 0.8222222222222222)"
      ]
     },
     "execution_count": 104,
     "metadata": {},
     "output_type": "execute_result"
    }
   ],
   "source": [
    "val_metrics(model, valid_dl)"
   ]
  },
  {
   "cell_type": "code",
   "execution_count": null,
   "metadata": {},
   "outputs": [],
   "source": []
  },
  {
   "cell_type": "markdown",
   "metadata": {},
   "source": [
    "# IV. Resnet34 with Grey World + Histogram Equalization as a random data augmentation"
   ]
  },
  {
   "cell_type": "markdown",
   "metadata": {},
   "source": [
    "## Data augmentation"
   ]
  },
  {
   "cell_type": "code",
   "execution_count": 2,
   "metadata": {},
   "outputs": [],
   "source": [
    "import colorcorrect.algorithm as cca"
   ]
  },
  {
   "cell_type": "code",
   "execution_count": 7,
   "metadata": {},
   "outputs": [],
   "source": [
    "def gwhe_img(img):\n",
    "    img = cca.grey_world(img)\n",
    "    img = cv2.cvtColor(img, cv2.COLOR_RGB2BGR)\n",
    "    img_y_cr_cb = cv2.cvtColor(img, cv2.COLOR_BGR2YCrCb)\n",
    "    y, cr, cb = cv2.split(img_y_cr_cb)\n",
    "    y_eq = cv2.equalizeHist(y)\n",
    "    img_y_cr_cb_eq = cv2.merge((y_eq, cr, cb))\n",
    "    img_rgb_eq = cv2.cvtColor(img_y_cr_cb_eq, cv2.COLOR_YCR_CB2BGR)\n",
    "    return cv2.cvtColor(img_rgb_eq, cv2.COLOR_RGB2BGR)"
   ]
  },
  {
   "cell_type": "markdown",
   "metadata": {},
   "source": [
    "## Train-validation split"
   ]
  },
  {
   "cell_type": "code",
   "execution_count": 10,
   "metadata": {},
   "outputs": [],
   "source": [
    "path = PATH/\"train-315\""
   ]
  },
  {
   "cell_type": "code",
   "execution_count": 11,
   "metadata": {},
   "outputs": [],
   "source": [
    "files = get_files(path)"
   ]
  },
  {
   "cell_type": "code",
   "execution_count": 13,
   "metadata": {},
   "outputs": [],
   "source": [
    "file_labels = [p.parts[-2] for p in files]"
   ]
  },
  {
   "cell_type": "code",
   "execution_count": 14,
   "metadata": {},
   "outputs": [],
   "source": [
    "train_files, valid_files, y_train, y_valid = train_test_split(files, file_labels, test_size=0.2, random_state=42)"
   ]
  },
  {
   "cell_type": "markdown",
   "metadata": {},
   "source": [
    "## Dataset"
   ]
  },
  {
   "cell_type": "code",
   "execution_count": 18,
   "metadata": {},
   "outputs": [],
   "source": [
    "paths = [d for d in list(path.iterdir()) if d.is_dir()]"
   ]
  },
  {
   "cell_type": "code",
   "execution_count": 19,
   "metadata": {},
   "outputs": [],
   "source": [
    "labels = [p.parts[-1] for p in paths]"
   ]
  },
  {
   "cell_type": "code",
   "execution_count": 21,
   "metadata": {},
   "outputs": [],
   "source": [
    "class SandwichDatasetGWHE(Dataset):\n",
    "    def __init__(self, files, labels, transforms=False):\n",
    "        self.files = files\n",
    "        self.label2ind = {v:k for k,v in enumerate(labels)}\n",
    "        self.transforms = transforms\n",
    "        \n",
    "    def __len__(self):\n",
    "        return len(self.files)\n",
    "    \n",
    "    def __getitem__(self, idx):\n",
    "        path = self.files[idx]\n",
    "        name = path.parts[-1]\n",
    "        y_class = self.label2ind[path.parts[-2]] \n",
    "        x = cv2.imread(str(path)).astype(np.float32)\n",
    "        if self.transforms:\n",
    "            # Randomly apply Grey World and Histogram Equalization to image\n",
    "            if np.random.random() > 0.5: x = gwhe_img(x).copy()\n",
    "            x = cv2.cvtColor(x, cv2.COLOR_BGR2RGB)/255\n",
    "            rdeg = (np.random.random()-.50)*20\n",
    "            x = rotate_cv(x, rdeg)\n",
    "            if np.random.random() > 0.5: x = np.fliplr(x).copy()\n",
    "            x = random_crop(x)\n",
    "        else:\n",
    "            x = cv2.cvtColor(x, cv2.COLOR_BGR2RGB)/255\n",
    "            x = center_crop(x)\n",
    "        x = normalize(x)\n",
    "        y = self.label2ind[path.parts[-2]]\n",
    "        return np.rollaxis(x, 2), y"
   ]
  },
  {
   "cell_type": "code",
   "execution_count": 22,
   "metadata": {},
   "outputs": [],
   "source": [
    "train_ds = SandwichDatasetGWHE(files=train_files, labels=labels, transforms=True)"
   ]
  },
  {
   "cell_type": "code",
   "execution_count": 24,
   "metadata": {},
   "outputs": [],
   "source": [
    "valid_ds = SandwichDatasetGWHE(files=valid_files, labels=labels, transforms=False)"
   ]
  },
  {
   "cell_type": "code",
   "execution_count": 27,
   "metadata": {},
   "outputs": [],
   "source": [
    "x, y = train_ds[0]"
   ]
  },
  {
   "cell_type": "code",
   "execution_count": 29,
   "metadata": {},
   "outputs": [],
   "source": [
    "batch_size = 50"
   ]
  },
  {
   "cell_type": "code",
   "execution_count": 30,
   "metadata": {},
   "outputs": [],
   "source": [
    "train_dl = DataLoader(train_ds, batch_size=batch_size, shuffle=True)"
   ]
  },
  {
   "cell_type": "code",
   "execution_count": 31,
   "metadata": {},
   "outputs": [],
   "source": [
    "valid_dl = DataLoader(valid_ds, batch_size=batch_size, shuffle=False)"
   ]
  },
  {
   "cell_type": "code",
   "execution_count": 32,
   "metadata": {},
   "outputs": [],
   "source": [
    "x, y = next(iter(train_dl))"
   ]
  },
  {
   "cell_type": "code",
   "execution_count": 33,
   "metadata": {},
   "outputs": [],
   "source": [
    "x = x.cuda().float()\n",
    "y = y.cuda()"
   ]
  },
  {
   "cell_type": "markdown",
   "metadata": {},
   "source": [
    "## Initialize pre-trained model with frozen hidden layers, train with fixed learning rate for 10 epochs"
   ]
  },
  {
   "cell_type": "code",
   "execution_count": 62,
   "metadata": {},
   "outputs": [],
   "source": [
    "def train(model, epochs=5, learning_rate=0.01):\n",
    "    optimzer = get_optimizer(model, lr=learning_rate, wd=0)\n",
    "    prev_val_acc = 0.0\n",
    "    for i in range(epochs):\n",
    "        model.train()\n",
    "        total = 0\n",
    "        sum_loss = 0\n",
    "        for x, y in train_dl:\n",
    "            batch = y.shape[0]\n",
    "            x = x.cuda().float()\n",
    "            y = y.cuda()\n",
    "            out = model(x)\n",
    "            loss = F.cross_entropy(out, y)\n",
    "            optimzer.zero_grad()\n",
    "            loss.backward()\n",
    "            optimzer.step()\n",
    "            total += batch\n",
    "            sum_loss += batch*(loss.item())\n",
    "        val_loss, val_acc = val_metrics(model, valid_dl)\n",
    "        if i % 2 == 0:\n",
    "            print(\"train loss %.3f val loss %.3f val accuracy %.3f\" % (sum_loss/total, val_loss, val_acc))\n",
    "        if val_acc > prev_val_acc:\n",
    "            prev_val_acc = val_acc\n",
    "            if val_acc > 0.6:\n",
    "                path = \"{0}/initial_aug_resnet_{1:.0f}.pth\".format(model_path, 100*val_acc)\n",
    "                save_model(model, path)\n",
    "                print(path)"
   ]
  },
  {
   "cell_type": "code",
   "execution_count": 63,
   "metadata": {},
   "outputs": [],
   "source": [
    "model = Resnet().cuda()"
   ]
  },
  {
   "cell_type": "code",
   "execution_count": 64,
   "metadata": {
    "scrolled": true
   },
   "outputs": [
    {
     "name": "stdout",
     "output_type": "stream",
     "text": [
      "train loss 1.554 val loss 0.914 val accuracy 0.670\n",
      "/home/ubuntu/models/sandwich/initial_aug_resnet_67.pth\n",
      "/home/ubuntu/models/sandwich/initial_aug_resnet_69.pth\n",
      "train loss 0.942 val loss 0.853 val accuracy 0.698\n",
      "/home/ubuntu/models/sandwich/initial_aug_resnet_70.pth\n",
      "train loss 0.887 val loss 1.004 val accuracy 0.649\n",
      "/home/ubuntu/models/sandwich/initial_aug_resnet_73.pth\n",
      "train loss 0.814 val loss 0.720 val accuracy 0.754\n",
      "/home/ubuntu/models/sandwich/initial_aug_resnet_75.pth\n",
      "train loss 0.808 val loss 0.847 val accuracy 0.739\n"
     ]
    }
   ],
   "source": [
    "train(model, epochs=10, learning_rate=0.01)"
   ]
  },
  {
   "cell_type": "markdown",
   "metadata": {},
   "source": [
    "## Unfreeze top 2 hidden layers, train with lower learning rate for additional 20 epochs"
   ]
  },
  {
   "cell_type": "code",
   "execution_count": 66,
   "metadata": {},
   "outputs": [],
   "source": [
    "model = Resnet().cuda()"
   ]
  },
  {
   "cell_type": "code",
   "execution_count": 67,
   "metadata": {},
   "outputs": [],
   "source": [
    "load_model(model, model_path/\"initial_aug_resnet_75.pth\")"
   ]
  },
  {
   "cell_type": "code",
   "execution_count": 68,
   "metadata": {
    "scrolled": true
   },
   "outputs": [
    {
     "data": {
      "text/plain": [
       "(0.7203980055120256, 0.7544444444444445)"
      ]
     },
     "execution_count": 68,
     "metadata": {},
     "output_type": "execute_result"
    }
   ],
   "source": [
    "val_metrics(model, valid_dl)"
   ]
  },
  {
   "cell_type": "code",
   "execution_count": 71,
   "metadata": {},
   "outputs": [],
   "source": [
    "unfreeze(model, 7)\n",
    "unfreeze(model, 6)"
   ]
  },
  {
   "cell_type": "code",
   "execution_count": 72,
   "metadata": {},
   "outputs": [],
   "source": [
    "def train2(model, epochs=5, learning_rate=0.01):\n",
    "    optimzer = get_optimizer(model, lr=learning_rate, wd=0)\n",
    "    prev_val_acc = 0.0\n",
    "    for i in range(epochs):\n",
    "        model.train()\n",
    "        total = 0\n",
    "        sum_loss = 0\n",
    "        for x, y in train_dl:\n",
    "            batch = y.shape[0]\n",
    "            x = x.cuda().float()\n",
    "            y = y.cuda()\n",
    "            out = model(x)\n",
    "            loss = F.cross_entropy(out, y)\n",
    "            optimzer.zero_grad()\n",
    "            loss.backward()\n",
    "            optimzer.step()\n",
    "            total += batch\n",
    "            sum_loss += batch*(loss.item())\n",
    "        val_loss, val_acc = val_metrics(model, valid_dl)\n",
    "        if i % 2 == 0:\n",
    "            print(\"train loss %.3f val loss %.3f val accuracy %.3f\" % (sum_loss/total, val_loss, val_acc))\n",
    "        if val_acc > prev_val_acc: \n",
    "            prev_val_acc = val_acc\n",
    "            if val_acc > 0.75:\n",
    "                path = \"{0}/unfreeze_aug_resnet_{1:.0f}.pth\".format(model_path, 100*val_acc)\n",
    "                save_model(model, path)\n",
    "                print(path)"
   ]
  },
  {
   "cell_type": "code",
   "execution_count": 73,
   "metadata": {},
   "outputs": [
    {
     "name": "stdout",
     "output_type": "stream",
     "text": [
      "train loss 1.147 val loss 0.806 val accuracy 0.738\n",
      "train loss 0.583 val loss 0.887 val accuracy 0.706\n",
      "/home/ubuntu/models/sandwich/unfreeze_aug_resnet_76.pth\n",
      "train loss 0.426 val loss 0.750 val accuracy 0.763\n",
      "/home/ubuntu/models/sandwich/unfreeze_aug_resnet_77.pth\n",
      "train loss 0.333 val loss 0.777 val accuracy 0.773\n",
      "/home/ubuntu/models/sandwich/unfreeze_aug_resnet_79.pth\n",
      "train loss 0.240 val loss 1.349 val accuracy 0.688\n",
      "train loss 0.213 val loss 0.700 val accuracy 0.801\n",
      "/home/ubuntu/models/sandwich/unfreeze_aug_resnet_80.pth\n",
      "/home/ubuntu/models/sandwich/unfreeze_aug_resnet_82.pth\n",
      "train loss 0.173 val loss 0.758 val accuracy 0.790\n",
      "train loss 0.146 val loss 0.823 val accuracy 0.799\n",
      "/home/ubuntu/models/sandwich/unfreeze_aug_resnet_83.pth\n",
      "train loss 0.102 val loss 0.874 val accuracy 0.809\n",
      "train loss 0.149 val loss 0.834 val accuracy 0.799\n",
      "/home/ubuntu/models/sandwich/unfreeze_aug_resnet_84.pth\n"
     ]
    }
   ],
   "source": [
    "train2(model, epochs=20, learning_rate=0.001)"
   ]
  },
  {
   "cell_type": "code",
   "execution_count": 74,
   "metadata": {},
   "outputs": [],
   "source": [
    "model = Resnet().cuda()"
   ]
  },
  {
   "cell_type": "code",
   "execution_count": 75,
   "metadata": {},
   "outputs": [],
   "source": [
    "load_model(model, model_path/\"/home/ubuntu/models/sandwich/unfreeze_aug_resnet_84.pth\")"
   ]
  },
  {
   "cell_type": "code",
   "execution_count": 76,
   "metadata": {},
   "outputs": [
    {
     "data": {
      "text/plain": [
       "(0.609929227994548, 0.8377777777777777)"
      ]
     },
     "execution_count": 76,
     "metadata": {},
     "output_type": "execute_result"
    }
   ],
   "source": [
    "val_metrics(model, valid_dl)"
   ]
  },
  {
   "cell_type": "markdown",
   "metadata": {},
   "source": [
    "## Discriminative fine-tuning, gradual unfreezing, and 1-cycle triangular learning rate"
   ]
  },
  {
   "cell_type": "markdown",
   "metadata": {},
   "source": [
    "### Initialize model with groups of layers"
   ]
  },
  {
   "cell_type": "code",
   "execution_count": 87,
   "metadata": {},
   "outputs": [],
   "source": [
    "model = ResnetV2().cuda()"
   ]
  },
  {
   "cell_type": "markdown",
   "metadata": {},
   "source": [
    "### 1-cycle rate training, unfreeze top hidden layers, train for 30 epochs"
   ]
  },
  {
   "cell_type": "code",
   "execution_count": 86,
   "metadata": {},
   "outputs": [],
   "source": [
    "def train_triangular_policy2(model, train_dl, valid_dl, max_lr=0.05, epochs=10):\n",
    "    idx = 0\n",
    "    iterations = epochs*len(train_dl)\n",
    "    lrs = get_cosine_triangular_lr(max_lr, iterations)\n",
    "    optimizer = create_optimizer(model, lrs[0])\n",
    "    prev_val_acc = 0.0\n",
    "    for j in range(epochs):\n",
    "        model.train()\n",
    "        total = 0\n",
    "        sum_loss = 0\n",
    "        for i, (x, y) in enumerate(train_dl):\n",
    "            lr = lrs[idx]\n",
    "            update_optimizer_group(optimizer, [lr/9, lr/3, lr]) # In each iteration, update group learning rates\n",
    "            batch = y.shape[0]\n",
    "            x = x.cuda().float()\n",
    "            y = y.cuda()\n",
    "            out = model(x)\n",
    "            loss = F.cross_entropy(out, y)\n",
    "            optimizer.zero_grad()\n",
    "            loss.backward()\n",
    "            optimizer.step()\n",
    "            idx += 1\n",
    "            if idx == int(0.1*iterations):\n",
    "                model.unfreeze(1)\n",
    "                print(idx, \"unfreezing 1\")\n",
    "            total += batch\n",
    "            sum_loss += batch*(loss.item())\n",
    "        train_loss = sum_loss/total\n",
    "        val_loss, val_acc = val_metrics(model, valid_dl)\n",
    "        print(\"train_loss %.3f val_loss %.3f val_acc %.3f\" % (train_loss, val_loss, val_acc))\n",
    "        if val_acc > prev_val_acc: \n",
    "            prev_val_acc = val_acc\n",
    "            if val_acc > 0.73:\n",
    "                path = \"{0}/ft_aug_resnet_{1:.0f}.pth\".format(model_path, 100*val_acc)\n",
    "                save_model(model, path)\n",
    "                print(path)\n",
    "    return sum_loss/total"
   ]
  },
  {
   "cell_type": "code",
   "execution_count": 88,
   "metadata": {},
   "outputs": [
    {
     "data": {
      "text/plain": [
       "(1.9267942772971258, 0.14333333333333334)"
      ]
     },
     "execution_count": 88,
     "metadata": {},
     "output_type": "execute_result"
    }
   ],
   "source": [
    "val_metrics(model, valid_dl)"
   ]
  },
  {
   "cell_type": "code",
   "execution_count": 89,
   "metadata": {},
   "outputs": [
    {
     "name": "stdout",
     "output_type": "stream",
     "text": [
      "train_loss 1.381 val_loss 0.952 val_acc 0.688\n",
      "train_loss 0.961 val_loss 0.945 val_acc 0.629\n",
      "216 unfreezing 1\n",
      "train_loss 0.981 val_loss 0.865 val_acc 0.689\n",
      "train_loss 2.271 val_loss 2.265 val_acc 0.287\n",
      "train_loss 1.390 val_loss 1.379 val_acc 0.510\n",
      "train_loss 1.419 val_loss 19.780 val_acc 0.309\n",
      "train_loss 1.239 val_loss 1.508 val_acc 0.492\n",
      "train_loss 0.990 val_loss 1.410 val_acc 0.534\n",
      "train_loss 0.911 val_loss 0.986 val_acc 0.709\n",
      "train_loss 0.843 val_loss 1.233 val_acc 0.563\n",
      "train_loss 0.789 val_loss 0.734 val_acc 0.744\n",
      "/home/ubuntu/models/sandwich/ft_aug_resnet_74.pth\n",
      "train_loss 0.735 val_loss 0.984 val_acc 0.674\n",
      "train_loss 0.661 val_loss 1.081 val_acc 0.674\n",
      "train_loss 0.612 val_loss 0.810 val_acc 0.728\n",
      "train_loss 0.585 val_loss 0.690 val_acc 0.789\n",
      "/home/ubuntu/models/sandwich/ft_aug_resnet_79.pth\n",
      "train_loss 0.567 val_loss 0.890 val_acc 0.718\n",
      "train_loss 0.565 val_loss 0.944 val_acc 0.713\n",
      "train_loss 0.466 val_loss 0.848 val_acc 0.761\n",
      "train_loss 0.455 val_loss 0.686 val_acc 0.779\n",
      "train_loss 0.391 val_loss 0.866 val_acc 0.768\n",
      "train_loss 0.376 val_loss 0.706 val_acc 0.798\n",
      "/home/ubuntu/models/sandwich/ft_aug_resnet_80.pth\n",
      "train_loss 0.298 val_loss 0.632 val_acc 0.818\n",
      "/home/ubuntu/models/sandwich/ft_aug_resnet_82.pth\n",
      "train_loss 0.279 val_loss 0.735 val_acc 0.793\n",
      "train_loss 0.242 val_loss 0.705 val_acc 0.811\n",
      "train_loss 0.201 val_loss 0.658 val_acc 0.830\n",
      "/home/ubuntu/models/sandwich/ft_aug_resnet_83.pth\n",
      "train_loss 0.177 val_loss 0.588 val_acc 0.830\n",
      "train_loss 0.156 val_loss 0.641 val_acc 0.823\n",
      "train_loss 0.132 val_loss 0.647 val_acc 0.836\n",
      "/home/ubuntu/models/sandwich/ft_aug_resnet_84.pth\n",
      "train_loss 0.122 val_loss 0.657 val_acc 0.836\n",
      "train_loss 0.121 val_loss 0.663 val_acc 0.836\n"
     ]
    },
    {
     "data": {
      "text/plain": [
       "0.12141090502134627"
      ]
     },
     "execution_count": 89,
     "metadata": {},
     "output_type": "execute_result"
    }
   ],
   "source": [
    "train_triangular_policy2(model, train_dl, valid_dl, max_lr=0.05, epochs=30)"
   ]
  },
  {
   "cell_type": "code",
   "execution_count": 90,
   "metadata": {},
   "outputs": [],
   "source": [
    "model = ResnetV2().cuda()"
   ]
  },
  {
   "cell_type": "code",
   "execution_count": 91,
   "metadata": {},
   "outputs": [],
   "source": [
    "load_model(model, model_path/\"ft_aug_resnet_84.pth\")"
   ]
  },
  {
   "cell_type": "code",
   "execution_count": 92,
   "metadata": {
    "scrolled": true
   },
   "outputs": [
    {
     "data": {
      "text/plain": [
       "(0.6474739015102386, 0.8355555555555556)"
      ]
     },
     "execution_count": 92,
     "metadata": {},
     "output_type": "execute_result"
    }
   ],
   "source": [
    "val_metrics(model, valid_dl)"
   ]
  },
  {
   "cell_type": "code",
   "execution_count": null,
   "metadata": {},
   "outputs": [],
   "source": []
  }
 ],
 "metadata": {
  "kernelspec": {
   "display_name": "Python 3",
   "language": "python",
   "name": "python3"
  },
  "language_info": {
   "codemirror_mode": {
    "name": "ipython",
    "version": 3
   },
   "file_extension": ".py",
   "mimetype": "text/x-python",
   "name": "python",
   "nbconvert_exporter": "python",
   "pygments_lexer": "ipython3",
   "version": "3.6.5"
  }
 },
 "nbformat": 4,
 "nbformat_minor": 2
}
