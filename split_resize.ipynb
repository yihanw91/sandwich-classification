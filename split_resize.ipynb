{
 "cells": [
  {
   "cell_type": "code",
   "execution_count": 1,
   "metadata": {},
   "outputs": [],
   "source": [
    "import os\n",
    "from pathlib import Path\n",
    "import cv2"
   ]
  },
  {
   "cell_type": "markdown",
   "metadata": {},
   "source": [
    "# Train-test split"
   ]
  },
  {
   "cell_type": "code",
   "execution_count": 2,
   "metadata": {},
   "outputs": [],
   "source": [
    "PATH = Path(\"/Users/yihan/data/food-101/images/\")"
   ]
  },
  {
   "cell_type": "code",
   "execution_count": 3,
   "metadata": {},
   "outputs": [],
   "source": [
    "train_path = Path(\"/Users/yihan/data/sandwich/\")/\"train\""
   ]
  },
  {
   "cell_type": "code",
   "execution_count": 4,
   "metadata": {},
   "outputs": [],
   "source": [
    "train_path.mkdir(exist_ok=True)"
   ]
  },
  {
   "cell_type": "code",
   "execution_count": 5,
   "metadata": {},
   "outputs": [],
   "source": [
    "test_path = Path(\"/Users/yihan/data/sandwich/\")/\"test\""
   ]
  },
  {
   "cell_type": "code",
   "execution_count": 6,
   "metadata": {},
   "outputs": [],
   "source": [
    "test_path.mkdir(exist_ok=True)"
   ]
  },
  {
   "cell_type": "code",
   "execution_count": 7,
   "metadata": {},
   "outputs": [],
   "source": [
    "with open(\"/Users/yihan/data/food-101/meta/new_train.txt\") as f:\n",
    "    train_files = f.readlines()"
   ]
  },
  {
   "cell_type": "code",
   "execution_count": 8,
   "metadata": {},
   "outputs": [],
   "source": [
    "train_files = [x.strip() for x in train_files] "
   ]
  },
  {
   "cell_type": "code",
   "execution_count": 9,
   "metadata": {},
   "outputs": [],
   "source": [
    "for file in train_files:\n",
    "    p = PATH/(file + \".jpg\")\n",
    "    jpg_name = p.parts[-1]\n",
    "    label = p.parts[-2]\n",
    "    new_path = train_path/(label + \"/\" + jpg_name)\n",
    "#     print(new_path)\n",
    "    im = cv2.imread(str(p))\n",
    "    cv2.imwrite(str(new_path), im)"
   ]
  },
  {
   "cell_type": "code",
   "execution_count": 10,
   "metadata": {},
   "outputs": [],
   "source": [
    "with open(\"/Users/yihan/data/food-101/meta/new_test.txt\") as f:\n",
    "    test_files = f.readlines()"
   ]
  },
  {
   "cell_type": "code",
   "execution_count": 11,
   "metadata": {},
   "outputs": [],
   "source": [
    "test_files = [x.strip() for x in test_files] "
   ]
  },
  {
   "cell_type": "code",
   "execution_count": 12,
   "metadata": {},
   "outputs": [],
   "source": [
    "for file in test_files:\n",
    "    p = PATH/(file + \".jpg\")\n",
    "    jpg_name = p.parts[-1]\n",
    "    label = p.parts[-2]\n",
    "    new_path = test_path/(label + \"/\" + jpg_name)\n",
    "#     print(new_path)\n",
    "    im = cv2.imread(str(p))\n",
    "    cv2.imwrite(str(new_path), im)"
   ]
  },
  {
   "cell_type": "markdown",
   "metadata": {},
   "source": [
    "# Resize images"
   ]
  },
  {
   "cell_type": "code",
   "execution_count": 24,
   "metadata": {},
   "outputs": [],
   "source": [
    "def read_image(path):\n",
    "    im = cv2.imread(str(path))\n",
    "    return cv2.cvtColor(im, cv2.COLOR_BGR2RGB)"
   ]
  },
  {
   "cell_type": "code",
   "execution_count": 13,
   "metadata": {},
   "outputs": [],
   "source": [
    "from collections import Counter"
   ]
  },
  {
   "cell_type": "code",
   "execution_count": 19,
   "metadata": {},
   "outputs": [],
   "source": [
    "files = list((train_path/\"club_sandwich\").iterdir())[:100] + \\\n",
    "list((train_path/\"grilled_cheese_sandwich\").iterdir())[:100] + \\\n",
    "list((train_path/\"hamburger\").iterdir())[:100] + \\\n",
    "list((train_path/\"hot_dog\").iterdir())[:100] + \\\n",
    "list((train_path/\"lobster_roll_sandwich\").iterdir())[:100] + \\\n",
    "list((train_path/\"pulled_pork_sandwich\").iterdir())[:100]"
   ]
  },
  {
   "cell_type": "code",
   "execution_count": 25,
   "metadata": {},
   "outputs": [],
   "source": [
    "dims = [read_image(str(p)).shape for p in files]"
   ]
  },
  {
   "cell_type": "code",
   "execution_count": 29,
   "metadata": {},
   "outputs": [],
   "source": [
    "# Counter(dims)"
   ]
  },
  {
   "cell_type": "code",
   "execution_count": 26,
   "metadata": {},
   "outputs": [],
   "source": [
    "counts = Counter([round(d[1]/d[0], 3) for d in dims])"
   ]
  },
  {
   "cell_type": "code",
   "execution_count": 27,
   "metadata": {},
   "outputs": [
    {
     "data": {
      "text/plain": [
       "Counter({1.333: 112,\n",
       "         1.0: 297,\n",
       "         1.673: 11,\n",
       "         1.684: 3,\n",
       "         1.493: 6,\n",
       "         1.662: 1,\n",
       "         1.668: 6,\n",
       "         1.34: 31,\n",
       "         0.75: 45,\n",
       "         0.666: 5,\n",
       "         1.501: 12,\n",
       "         1.337: 4,\n",
       "         1.778: 5,\n",
       "         0.746: 21,\n",
       "         0.598: 6,\n",
       "         1.506: 3,\n",
       "         0.998: 5,\n",
       "         1.772: 5,\n",
       "         1.79: 1,\n",
       "         1.006: 2,\n",
       "         1.026: 1,\n",
       "         1.344: 1,\n",
       "         1.753: 1,\n",
       "         0.377: 1,\n",
       "         1.497: 2,\n",
       "         0.6: 1,\n",
       "         1.18: 1,\n",
       "         0.748: 1,\n",
       "         1.62: 1,\n",
       "         1.024: 2,\n",
       "         1.784: 2,\n",
       "         1.434: 1,\n",
       "         1.418: 1,\n",
       "         0.994: 1,\n",
       "         1.118: 1,\n",
       "         1.01: 1})"
      ]
     },
     "execution_count": 27,
     "metadata": {},
     "output_type": "execute_result"
    }
   ],
   "source": [
    "counts"
   ]
  },
  {
   "cell_type": "code",
   "execution_count": 52,
   "metadata": {},
   "outputs": [],
   "source": [
    "def resize_images(path, sz=300):\n",
    "    im = read_image(path)\n",
    "    sz2 = int(1.0*sz)\n",
    "    return cv2.resize(im, (sz2, sz))"
   ]
  },
  {
   "cell_type": "code",
   "execution_count": 32,
   "metadata": {},
   "outputs": [
    {
     "data": {
      "text/plain": [
       "PosixPath('/Users/yihan/data/sandwich/train')"
      ]
     },
     "execution_count": 32,
     "metadata": {},
     "output_type": "execute_result"
    }
   ],
   "source": [
    "train_path"
   ]
  },
  {
   "cell_type": "code",
   "execution_count": 33,
   "metadata": {},
   "outputs": [],
   "source": [
    "new_train_path = Path(\"/Users/yihan/data/sandwich/\")/\"train-300\""
   ]
  },
  {
   "cell_type": "code",
   "execution_count": 35,
   "metadata": {},
   "outputs": [],
   "source": [
    "new_train_path.mkdir(exist_ok=True)"
   ]
  },
  {
   "cell_type": "code",
   "execution_count": 34,
   "metadata": {},
   "outputs": [],
   "source": [
    "new_test_path = Path(\"/Users/yihan/data/sandwich/\")/\"test-300\""
   ]
  },
  {
   "cell_type": "code",
   "execution_count": 36,
   "metadata": {},
   "outputs": [],
   "source": [
    "new_test_path.mkdir(exist_ok=True)"
   ]
  },
  {
   "cell_type": "code",
   "execution_count": 53,
   "metadata": {},
   "outputs": [],
   "source": [
    "def resize_all_images(new_path, org_path, sz=300):\n",
    "    paths = [x for x in list(org_path.iterdir()) if x.is_dir()]\n",
    "#     print(new_path)\n",
    "    for p in paths:\n",
    "        label = p.parts[-1]\n",
    "        (new_path/label).mkdir(exist_ok=True)\n",
    "        files = list((org_path/label).iterdir())\n",
    "        for f in files:\n",
    "            f_name = f.parts[-1]\n",
    "#             print(label, f_name)\n",
    "            im = resize_images(f)\n",
    "            cv2.imwrite(str(new_path/label/f_name), cv2.cvtColor(im, cv2.COLOR_RGB2BGR))"
   ]
  },
  {
   "cell_type": "code",
   "execution_count": 54,
   "metadata": {},
   "outputs": [],
   "source": [
    "# resize_all_images(new_train_path, train_path)"
   ]
  },
  {
   "cell_type": "code",
   "execution_count": 55,
   "metadata": {},
   "outputs": [],
   "source": [
    "# resize_all_images(new_test_path, test_path)"
   ]
  },
  {
   "cell_type": "code",
   "execution_count": null,
   "metadata": {},
   "outputs": [],
   "source": []
  }
 ],
 "metadata": {
  "kernelspec": {
   "display_name": "Python 3",
   "language": "python",
   "name": "python3"
  },
  "language_info": {
   "codemirror_mode": {
    "name": "ipython",
    "version": 3
   },
   "file_extension": ".py",
   "mimetype": "text/x-python",
   "name": "python",
   "nbconvert_exporter": "python",
   "pygments_lexer": "ipython3",
   "version": "3.6.8"
  }
 },
 "nbformat": 4,
 "nbformat_minor": 2
}
